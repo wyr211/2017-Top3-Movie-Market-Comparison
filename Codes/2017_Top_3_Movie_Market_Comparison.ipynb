{
 "cells": [
  {
   "cell_type": "markdown",
   "metadata": {},
   "source": [
    "# Anime Japan"
   ]
  },
  {
   "cell_type": "markdown",
   "metadata": {},
   "source": [
    "## Table of Contents"
   ]
  },
  {
   "cell_type": "markdown",
   "metadata": {},
   "source": [
    "- [Part1 Introduction](#introduction)\n",
    "\n",
    "- [Part2 2017 Top 3 Movie Markets Globally](#top3_movie_markets)\n",
    "\n",
    "- [Part3 Comparison Analysis of Top 3 Movie Markets](#comparison)\n",
    "   - [1. Preference on Movie Genres by Country](#preference_genres)\n",
    "       - [1) Box Office Contributions by Movie Genres to Top 20 Movies in Each Market](#box_office_contribution_genres)\n",
    "       - [2) Box Office Contributions by Key Movie Genres to Top 20 Movies in Each Market](#box_office_contribution_key_genres)\n",
    "       - [3) Proportion of Animations in Top 20 Movies](#proportion_elements)\n",
    "   - [2. Preference on Plots by Country](#preference_plots)\n",
    "       - [1) Preference of US/Canada](#preference_us/canada)\n",
    "       - [2) Preference of China](#preference_china)\n",
    "       - [3) Preference of Japan](#preference_japan)\n",
    "- [Appendix](#appendix)\n",
    "   - [Market Share - Full Version with All Countries Shown](#market_share_full)\n",
    "   - [Movie Elements Preference - Full Version with Legends](#preference_elements_full)"
   ]
  },
  {
   "cell_type": "markdown",
   "metadata": {},
   "source": [
    "<a id='introduction'></a>"
   ]
  },
  {
   "cell_type": "markdown",
   "metadata": {},
   "source": [
    "## Part 1 Introduction"
   ]
  },
  {
   "cell_type": "markdown",
   "metadata": {},
   "source": [
    "I love watching movies, and I know that people have different tastes in movies because of their differences on culture backgrounds, characteristics and value systems. But how about on an aggregated level such as country? What are the most appreciated movies by people in different countries? Are there any differences? "
   ]
  },
  {
   "cell_type": "markdown",
   "metadata": {},
   "source": [
    "Movie Box Mojo is a website that provides up-to-date movie box office data around the world. It also has movie ranking list on domestic box office of most of major movie markets. By scraping movie data from this website and merging to the movie ranking list, we can have most of the movie summary data to do the analysis, such as genre, gross and budget.But for some foreign movies, the movie summary data are not available or complete in Movie Box Mojo's data.\n",
    "\n",
    "So I completed the missing data by integrating IMDB's movie summary, including missing genre information of some foreign movies and all the movie plots summary."
   ]
  },
  {
   "cell_type": "markdown",
   "metadata": {},
   "source": [
    "<a id='top3_movie_markets'></a>"
   ]
  },
  {
   "cell_type": "markdown",
   "metadata": {},
   "source": [
    "##  Part 2   2017 Top 3 Movie Markets Globally"
   ]
  },
  {
   "cell_type": "markdown",
   "metadata": {},
   "source": [
    "First, let's choose our focus of this study based on the global ranking of movie box office."
   ]
  },
  {
   "cell_type": "code",
   "execution_count": 1,
   "metadata": {
    "scrolled": true
   },
   "outputs": [
    {
     "data": {
      "text/html": [
       "<script>requirejs.config({paths: { 'plotly': ['https://cdn.plot.ly/plotly-latest.min']},});if(!window.Plotly) {{require(['plotly'],function(plotly) {window.Plotly=plotly;});}}</script>"
      ],
      "text/vnd.plotly.v1+html": [
       "<script>requirejs.config({paths: { 'plotly': ['https://cdn.plot.ly/plotly-latest.min']},});if(!window.Plotly) {{require(['plotly'],function(plotly) {window.Plotly=plotly;});}}</script>"
      ]
     },
     "metadata": {},
     "output_type": "display_data"
    }
   ],
   "source": [
    "import pandas as pd\n",
    "import numpy as np\n",
    "import matplotlib.pyplot as plt\n",
    "import seaborn as sns\n",
    "import string\n",
    "from wordcloud import WordCloud, ImageColorGenerator\n",
    "from plotly import graph_objs as go, offline as offline, plotly as py\n",
    "offline.init_notebook_mode(connected=True)\n",
    "% matplotlib inline"
   ]
  },
  {
   "cell_type": "code",
   "execution_count": 2,
   "metadata": {
    "collapsed": true
   },
   "outputs": [],
   "source": [
    "# read in market share data\n",
    "df_market = pd.read_excel('World_movie_market_2017.xlsx', header=None, names=['country','box_office'])"
   ]
  },
  {
   "cell_type": "code",
   "execution_count": 3,
   "metadata": {
    "collapsed": true
   },
   "outputs": [],
   "source": [
    "# calculate revenue of all the other countries besides the top 3\n",
    "revenue_others = df_market.box_office[3:].sum()\n",
    "df_market.iloc[21,1] = revenue_others\n",
    "df_market = df_market.iloc[[0,1,2,21],:]"
   ]
  },
  {
   "cell_type": "code",
   "execution_count": 4,
   "metadata": {},
   "outputs": [
    {
     "data": {
      "application/vnd.plotly.v1+json": {
       "data": [
        {
         "hole": 0.7,
         "hoverinfo": "label+percent",
         "labels": [
          "US/Canada",
          "China",
          "Japan",
          "Others"
         ],
         "marker": {
          "colors": [
           "rgba(0, 109, 204, 1)",
           "rgba(204, 102, 0, 1)",
           "rgba(119, 204, 0, 1)",
           "rgba(230, 230, 230, 1)",
           "rgba(230, 230, 230, 1)",
           "rgba(230, 230, 230, 1)",
           "rgba(230, 230, 230, 1)",
           "rgba(230, 230, 230, 1)",
           "rgba(230, 230, 230, 1)",
           "rgba(230, 230, 230, 1)",
           "rgba(230, 230, 230, 1)",
           "rgba(230, 230, 230, 1)",
           "rgba(230, 230, 230, 1)",
           "rgba(230, 230, 230, 1)",
           "rgba(230, 230, 230, 1)",
           "rgba(230, 230, 230, 1)",
           "rgba(230, 230, 230, 1)",
           "rgba(230, 230, 230, 1)",
           "rgba(230, 230, 230, 1)",
           "rgba(230, 230, 230, 1)",
           "rgba(230, 230, 230, 1)",
           "rgba(230, 230, 230, 1)"
          ]
         },
         "showlegend": false,
         "sort": false,
         "textfont": {
          "color": "rgba(0, 0, 0, 1)",
          "size": 30
         },
         "textinfo": "label+percent",
         "textposition": "outside",
         "type": "pie",
         "uid": "ea1cd836-ad9d-11e8-be0d-60030899ee42",
         "values": [
          11.1,
          7.9,
          2,
          19.599999999999998
         ]
        }
       ],
       "layout": {
        "annotations": [
         {
          "font": {
           "size": 35
          },
          "showarrow": false,
          "text": "Top 3",
          "x": 0.5,
          "y": 0.75
         },
         {
          "font": {
           "size": 35
          },
          "showarrow": false,
          "text": ">",
          "x": 0.5,
          "y": 0.55
         },
         {
          "font": {
           "size": 50
          },
          "showarrow": false,
          "text": "50%",
          "x": 0.5,
          "y": 0.4
         }
        ],
        "margin": {
         "b": 80,
         "t": 150
        },
        "title": "2017 Global Movie Markets Share by Box Office",
        "titlefont": {
         "size": 35
        }
       }
      },
      "text/html": [
       "<div id=\"4dbe7132-5b57-4696-90a2-d29503ec10a2\" style=\"height: 525px; width: 100%;\" class=\"plotly-graph-div\"></div><script type=\"text/javascript\">require([\"plotly\"], function(Plotly) { window.PLOTLYENV=window.PLOTLYENV || {};window.PLOTLYENV.BASE_URL=\"https://plot.ly\";Plotly.newPlot(\"4dbe7132-5b57-4696-90a2-d29503ec10a2\", [{\"hole\": 0.7, \"hoverinfo\": \"label+percent\", \"labels\": [\"US/Canada\", \"China\", \"Japan\", \"Others\"], \"marker\": {\"colors\": [\"rgba(0, 109, 204, 1)\", \"rgba(204, 102, 0, 1)\", \"rgba(119, 204, 0, 1)\", \"rgba(230, 230, 230, 1)\", \"rgba(230, 230, 230, 1)\", \"rgba(230, 230, 230, 1)\", \"rgba(230, 230, 230, 1)\", \"rgba(230, 230, 230, 1)\", \"rgba(230, 230, 230, 1)\", \"rgba(230, 230, 230, 1)\", \"rgba(230, 230, 230, 1)\", \"rgba(230, 230, 230, 1)\", \"rgba(230, 230, 230, 1)\", \"rgba(230, 230, 230, 1)\", \"rgba(230, 230, 230, 1)\", \"rgba(230, 230, 230, 1)\", \"rgba(230, 230, 230, 1)\", \"rgba(230, 230, 230, 1)\", \"rgba(230, 230, 230, 1)\", \"rgba(230, 230, 230, 1)\", \"rgba(230, 230, 230, 1)\", \"rgba(230, 230, 230, 1)\"]}, \"showlegend\": false, \"sort\": false, \"textfont\": {\"color\": \"rgba(0, 0, 0, 1)\", \"size\": 30}, \"textinfo\": \"label+percent\", \"textposition\": \"outside\", \"values\": [11.1, 7.9, 2.0, 19.599999999999998], \"type\": \"pie\", \"uid\": \"eabe9c0c-ad9d-11e8-bea2-60030899ee42\"}], {\"annotations\": [{\"font\": {\"size\": 35}, \"showarrow\": false, \"text\": \"Top 3\", \"x\": 0.5, \"y\": 0.75}, {\"font\": {\"size\": 35}, \"showarrow\": false, \"text\": \">\", \"x\": 0.5, \"y\": 0.55}, {\"font\": {\"size\": 50}, \"showarrow\": false, \"text\": \"50%\", \"x\": 0.5, \"y\": 0.4}], \"margin\": {\"b\": 80, \"t\": 150}, \"title\": \"2017 Global Movie Markets Share by Box Office\", \"titlefont\": {\"size\": 35}}, {\"showLink\": true, \"linkText\": \"Export to plot.ly\"})});</script>"
      ],
      "text/vnd.plotly.v1+html": [
       "<div id=\"4dbe7132-5b57-4696-90a2-d29503ec10a2\" style=\"height: 525px; width: 100%;\" class=\"plotly-graph-div\"></div><script type=\"text/javascript\">require([\"plotly\"], function(Plotly) { window.PLOTLYENV=window.PLOTLYENV || {};window.PLOTLYENV.BASE_URL=\"https://plot.ly\";Plotly.newPlot(\"4dbe7132-5b57-4696-90a2-d29503ec10a2\", [{\"hole\": 0.7, \"hoverinfo\": \"label+percent\", \"labels\": [\"US/Canada\", \"China\", \"Japan\", \"Others\"], \"marker\": {\"colors\": [\"rgba(0, 109, 204, 1)\", \"rgba(204, 102, 0, 1)\", \"rgba(119, 204, 0, 1)\", \"rgba(230, 230, 230, 1)\", \"rgba(230, 230, 230, 1)\", \"rgba(230, 230, 230, 1)\", \"rgba(230, 230, 230, 1)\", \"rgba(230, 230, 230, 1)\", \"rgba(230, 230, 230, 1)\", \"rgba(230, 230, 230, 1)\", \"rgba(230, 230, 230, 1)\", \"rgba(230, 230, 230, 1)\", \"rgba(230, 230, 230, 1)\", \"rgba(230, 230, 230, 1)\", \"rgba(230, 230, 230, 1)\", \"rgba(230, 230, 230, 1)\", \"rgba(230, 230, 230, 1)\", \"rgba(230, 230, 230, 1)\", \"rgba(230, 230, 230, 1)\", \"rgba(230, 230, 230, 1)\", \"rgba(230, 230, 230, 1)\", \"rgba(230, 230, 230, 1)\"]}, \"showlegend\": false, \"sort\": false, \"textfont\": {\"color\": \"rgba(0, 0, 0, 1)\", \"size\": 30}, \"textinfo\": \"label+percent\", \"textposition\": \"outside\", \"values\": [11.1, 7.9, 2.0, 19.599999999999998], \"type\": \"pie\", \"uid\": \"eabe9c0c-ad9d-11e8-bea2-60030899ee42\"}], {\"annotations\": [{\"font\": {\"size\": 35}, \"showarrow\": false, \"text\": \"Top 3\", \"x\": 0.5, \"y\": 0.75}, {\"font\": {\"size\": 35}, \"showarrow\": false, \"text\": \">\", \"x\": 0.5, \"y\": 0.55}, {\"font\": {\"size\": 50}, \"showarrow\": false, \"text\": \"50%\", \"x\": 0.5, \"y\": 0.4}], \"margin\": {\"b\": 80, \"t\": 150}, \"title\": \"2017 Global Movie Markets Share by Box Office\", \"titlefont\": {\"size\": 35}}, {\"showLink\": true, \"linkText\": \"Export to plot.ly\"})});</script>"
      ]
     },
     "metadata": {},
     "output_type": "display_data"
    }
   ],
   "source": [
    "colors = ['rgba(0, 109, 204, 1)', 'rgba(204, 102, 0, 1)', 'rgba(119, 204, 0, 1)']\n",
    "for i in range(0,19):\n",
    "    colors.append('rgba(230, 230, 230, 1)')\n",
    "\n",
    "fig = {\n",
    "  'data': [\n",
    "    {\n",
    "        'values': list(df_market['box_office'].values.flatten()),\n",
    "        'labels': list(df_market['country'].values.flatten()),\n",
    "        'marker': {'colors': colors},\n",
    "        'hoverinfo':'label+percent',\n",
    "        'textinfo':'label+percent',\n",
    "        'textposition':'outside',\n",
    "        'hole': .7,\n",
    "        'type': 'pie',\n",
    "        'sort':False,\n",
    "        'showlegend':False,\n",
    "        'textfont': \n",
    "            {\n",
    "                'color':'rgba(0, 0, 0, 1)', \n",
    "                'size':30\n",
    "            }\n",
    "    },\n",
    "    ],\n",
    "    'layout': {\n",
    "        'title':'2017 Global Movie Markets Share by Box Office',\n",
    "        'titlefont': {\n",
    "          'size': 35},\n",
    "        'margin':{\n",
    "            't':150,\n",
    "            'b':80\n",
    "        },\n",
    "        'annotations': [\n",
    "            {\n",
    "                'font': {\n",
    "                    'size': 35\n",
    "                },\n",
    "                'showarrow': False,\n",
    "                'text': 'Top 3',\n",
    "                'x': 0.5,\n",
    "                'y': 0.75\n",
    "            },\n",
    "            {\n",
    "                'font': {\n",
    "                    'size': 35\n",
    "                },\n",
    "                'showarrow': False,\n",
    "                'text': '>',\n",
    "                'x': 0.5,\n",
    "                'y': 0.55\n",
    "            },\n",
    "            {\n",
    "                'font': {\n",
    "                    'size': 50\n",
    "                },\n",
    "                'showarrow': False,\n",
    "                'text': '50%',\n",
    "                'x': 0.5,\n",
    "                'y': 0.40\n",
    "            },\n",
    "      ]\n",
    "    }\n",
    "}\n",
    "\n",
    "\n",
    "offline.iplot(fig)"
   ]
  },
  {
   "cell_type": "markdown",
   "metadata": {},
   "source": [
    "50%+ of global movie box office is from only 3 countries/regions: US/Canada, China and Japan. The movie box office distributes in a very concentrating way. So the following comparison analysis will only focus on the 3 most important movie markets."
   ]
  },
  {
   "cell_type": "markdown",
   "metadata": {},
   "source": [
    "<a id='comparison'></a>"
   ]
  },
  {
   "cell_type": "markdown",
   "metadata": {},
   "source": [
    "## Part 3 Comparison Analysis of Top 3 Movie Markets"
   ]
  },
  {
   "cell_type": "markdown",
   "metadata": {},
   "source": [
    "The rest of the analysis are based on top 20 movies in each market. The reason for picking only the top 20 movies is that those movies are a good representation of the country's preferences on movies. Those can be taken as the most beloved movies."
   ]
  },
  {
   "cell_type": "markdown",
   "metadata": {},
   "source": [
    "<a id='preference_genres'></a>"
   ]
  },
  {
   "cell_type": "markdown",
   "metadata": {},
   "source": [
    "### 1. Preference on Movie Genres by Country"
   ]
  },
  {
   "cell_type": "markdown",
   "metadata": {},
   "source": [
    "<a id='box_office_contribution_genres'></a>"
   ]
  },
  {
   "cell_type": "markdown",
   "metadata": {},
   "source": [
    "### 1) Box Office Contributions by Movie Genres to Top 20 Movies in Each Market"
   ]
  },
  {
   "cell_type": "code",
   "execution_count": 5,
   "metadata": {
    "collapsed": true
   },
   "outputs": [],
   "source": [
    "# read in data and clean\n",
    "df_rank = pd.read_excel('movie_top3_top20.xlsx')\n",
    "\n",
    "df_rank.replace('Adventrue','Adventure',inplace=True)\n",
    "df_rank.replace('Comic-Based','Comic',inplace=True)\n",
    "df_rank.replace('Music','Musical',inplace=True)\n",
    "df_rank.replace('\\xa0War', 'War', inplace=True)\n",
    "df_rank.country.replace('US', 'US/Canada', inplace=True)"
   ]
  },
  {
   "cell_type": "code",
   "execution_count": 6,
   "metadata": {
    "collapsed": true
   },
   "outputs": [],
   "source": [
    "# attract movie genre, country and domestic gross\n",
    "country_lis = ['Japan', 'China', 'US/Canada']\n",
    "df_country_genre = pd.DataFrame()\n",
    "df_country_genre_ratio = pd.DataFrame()\n",
    "\n",
    "for country in country_lis:\n",
    "    df_country = df_rank[df_rank.country==country].iloc[:,[1,2,7,8,9,10,11,12,13,14]].reset_index(drop=True)\n",
    "    country_top20_total = df_rank.loc[df_rank.country==country,'gross'].sum()\n",
    "    for i in range(2,9):\n",
    "        df_genre = df_country.iloc[:,[0,1,i]].reset_index(drop=True)\n",
    "        df_genre.columns = ['gross','country','genre']\n",
    "        df_country_genre = pd.concat([df_country_genre,df_genre], axis=0).reset_index(drop=True).dropna(axis=0)\n",
    "    df_country_genre = df_country_genre.groupby(['country','genre'], as_index=False).sum()"
   ]
  },
  {
   "cell_type": "code",
   "execution_count": 7,
   "metadata": {
    "collapsed": true
   },
   "outputs": [],
   "source": [
    "# Caculate ratio of genre gross by total gross\n",
    "df_country_genre_total = df_country_genre[['country','gross']].groupby('country', as_index=False).sum() \n",
    "df_country_genre_total.rename(columns={'gross':'total'}, inplace=True)\n",
    "df_country_genre_ratio = df_country_genre.merge(df_country_genre_total, on='country',how='left')\n",
    "df_country_genre_ratio['ratio'] = df_country_genre_ratio['gross']/df_country_genre_ratio['total']"
   ]
  },
  {
   "cell_type": "code",
   "execution_count": 8,
   "metadata": {
    "collapsed": true
   },
   "outputs": [],
   "source": [
    "# Restructure data \n",
    "genre_lis = df_country_genre.genre.unique()\n",
    "genre_ratio_lis = []\n",
    "df_genre_ratio = pd.DataFrame()\n",
    "\n",
    "for i in range(0,len(country_lis)):\n",
    "    genre_ratio_lis = []\n",
    "    country = country_lis[i]\n",
    "    genre_ratio_lis.append(country)\n",
    "    for j in range(0, len(genre_lis)):\n",
    "        if len(df_country_genre_ratio.loc[\n",
    "            (df_country_genre_ratio.country==country_lis[i])& (df_country_genre_ratio.genre==genre_lis[j])])>0:\n",
    "            ratio = df_country_genre_ratio.loc[\n",
    "                (df_country_genre_ratio.country==country_lis[i])& (df_country_genre_ratio.genre==genre_lis[j]), 'ratio'].values[0]\n",
    "        else:\n",
    "            ratio = 0\n",
    "        genre_ratio_lis.append(ratio)\n",
    "    genre_ratio_s = pd.Series(genre_ratio_lis, name=False)\n",
    "    df_genre_ratio = pd.concat((df_genre_ratio, genre_ratio_s), axis=1)\n",
    "    \n",
    "\n",
    "df_genre_ratio.columns = df_genre_ratio.iloc[0,:]\n",
    "df_genre_ratio = df_genre_ratio.drop(0).reset_index()\n",
    "df_genre_ratio['genre'] = pd.Series(genre_lis)"
   ]
  },
  {
   "cell_type": "code",
   "execution_count": 9,
   "metadata": {},
   "outputs": [
    {
     "data": {
      "application/vnd.plotly.v1+json": {
       "data": [
        {
         "marker": {
          "color": "rgba(194, 0, 0, 1)"
         },
         "name": "Action",
         "orientation": "h",
         "type": "bar",
         "uid": "f360f92c-ad9d-11e8-9748-60030899ee42",
         "x": [
          0.1028194792462009,
          0.183037814322739,
          0.1569799367125149
         ],
         "y": [
          "Japan",
          "China",
          "US/Canada"
         ]
        },
        {
         "marker": {
          "color": "rgba(37, 0, 204, 1)"
         },
         "name": "Adventure",
         "orientation": "h",
         "type": "bar",
         "uid": "f360fe2c-ad9d-11e8-ba76-60030899ee42",
         "x": [
          0.11458521231124146,
          0.10969554216977631,
          0.13391399630985515
         ],
         "y": [
          "Japan",
          "China",
          "US/Canada"
         ]
        },
        {
         "marker": {
          "color": "rgba(204, 0, 139, 1)"
         },
         "name": "Animation",
         "orientation": "h",
         "type": "bar",
         "uid": "f36100c0-ad9d-11e8-b356-60030899ee42",
         "x": [
          0.115315102795703,
          0.019894386307763353,
          0.05056004418898859
         ],
         "y": [
          "Japan",
          "China",
          "US/Canada"
         ]
        },
        {
         "marker": {
          "color": "rgba(230, 230, 230, 1)"
         },
         "name": "Biography",
         "orientation": "h",
         "type": "bar",
         "uid": "f361035e-ad9d-11e8-ba0f-60030899ee42",
         "x": [
          0,
          0.011055418023355029,
          0.00663195260650076
         ],
         "y": [
          "Japan",
          "China",
          "US/Canada"
         ]
        },
        {
         "marker": {
          "color": "rgba(48, 204, 0, 1)"
         },
         "name": "Comedy",
         "orientation": "h",
         "type": "bar",
         "uid": "f36105ac-ad9d-11e8-8ab9-60030899ee42",
         "x": [
          0.0888462436371514,
          0.10623186742338268,
          0.07358860379584757
         ],
         "y": [
          "Japan",
          "China",
          "US/Canada"
         ]
        },
        {
         "marker": {
          "color": "rgba(226, 145, 24, 1)"
         },
         "name": "Comic",
         "orientation": "h",
         "type": "bar",
         "uid": "f36107f0-ad9d-11e8-886b-60030899ee42",
         "x": [
          0.026486611991212362,
          0.026190974788659227,
          0.07922606536496163
         ],
         "y": [
          "Japan",
          "China",
          "US/Canada"
         ]
        },
        {
         "marker": {
          "color": "rgba(220, 220, 220, 1)"
         },
         "name": "Crime",
         "orientation": "h",
         "type": "bar",
         "uid": "f3610a28-ad9d-11e8-9c4d-60030899ee42",
         "x": [
          0.017190184079856993,
          0.022494826236432525,
          0.00859742687873982
         ],
         "y": [
          "Japan",
          "China",
          "US/Canada"
         ]
        },
        {
         "marker": {
          "color": "rgba(204, 71, 0, 1)"
         },
         "name": "Drama",
         "orientation": "h",
         "type": "bar",
         "uid": "f3610c64-ad9d-11e8-b1c4-60030899ee42",
         "x": [
          0.0484797231575513,
          0.0879108694355713,
          0.03485041344203677
         ],
         "y": [
          "Japan",
          "China",
          "US/Canada"
         ]
        },
        {
         "marker": {
          "color": "rgba(116, 0, 204, 1)"
         },
         "name": "Family",
         "orientation": "h",
         "type": "bar",
         "uid": "f3610e8a-ad9d-11e8-90e3-60030899ee42",
         "x": [
          0.115315102795703,
          0.019894386307763353,
          0.05056004418898859
         ],
         "y": [
          "Japan",
          "China",
          "US/Canada"
         ]
        },
        {
         "marker": {
          "color": "rgba(204, 146, 0, 1)"
         },
         "name": "Fantasy",
         "orientation": "h",
         "type": "bar",
         "uid": "f36110ba-ad9d-11e8-a941-60030899ee42",
         "x": [
          0.12147850476749736,
          0.1018899302895377,
          0.13220229527295774
         ],
         "y": [
          "Japan",
          "China",
          "US/Canada"
         ]
        },
        {
         "marker": {
          "color": "rgba(180, 180, 180, 1)"
         },
         "name": "Horror",
         "orientation": "h",
         "type": "bar",
         "uid": "f36112e2-ad9d-11e8-84c8-60030899ee42",
         "x": [
          0.0052626435405760605,
          0.009136852990131627,
          0.019154143894148587
         ],
         "y": [
          "Japan",
          "China",
          "US/Canada"
         ]
        },
        {
         "marker": {
          "color": "rgba(160, 160, 160, 1)"
         },
         "name": "Musical",
         "orientation": "h",
         "type": "bar",
         "uid": "f3611510-ad9d-11e8-a95e-60030899ee42",
         "x": [
          0.06504079774012794,
          0.010836396662139433,
          0.03378284352574076
         ],
         "y": [
          "Japan",
          "China",
          "US/Canada"
         ]
        },
        {
         "marker": {
          "color": "rgba(140, 140, 140, 1)"
         },
         "name": "Mystery",
         "orientation": "h",
         "type": "bar",
         "uid": "f3611736-ad9d-11e8-9943-60030899ee42",
         "x": [
          0.02190419512259718,
          0.025412623036443278,
          0.014674680426366585
         ],
         "y": [
          "Japan",
          "China",
          "US/Canada"
         ]
        },
        {
         "marker": {
          "color": "rgba(120, 120, 120, 1)"
         },
         "name": "Romance",
         "orientation": "h",
         "type": "bar",
         "uid": "f3611966-ad9d-11e8-874e-60030899ee42",
         "x": [
          0.04711944650756811,
          0.030409160518888416,
          0.01917285028799532
         ],
         "y": [
          "Japan",
          "China",
          "US/Canada"
         ]
        },
        {
         "marker": {
          "color": "rgba(63, 0, 158, 1)"
         },
         "name": "Sci-Fi",
         "orientation": "h",
         "type": "bar",
         "uid": "f3611b98-ad9d-11e8-84d2-60030899ee42",
         "x": [
          0.06272299536834933,
          0.06043991305021,
          0.1125915214318889
         ],
         "y": [
          "Japan",
          "China",
          "US/Canada"
         ]
        },
        {
         "marker": {
          "color": "rgba(80, 80, 80, 1)"
         },
         "name": "Sport",
         "orientation": "h",
         "type": "bar",
         "uid": "f3611dc6-ad9d-11e8-bfce-60030899ee42",
         "x": [
          0,
          0.030178975784165098,
          0
         ],
         "y": [
          "Japan",
          "China",
          "US/Canada"
         ]
        },
        {
         "marker": {
          "color": "rgba(147, 21, 21, 1)"
         },
         "name": "Thriller",
         "orientation": "h",
         "type": "bar",
         "uid": "f361201e-ad9d-11e8-b321-60030899ee42",
         "x": [
          0.036877904532898145,
          0.0963699083808892,
          0.043512527509397735
         ],
         "y": [
          "Japan",
          "China",
          "US/Canada"
         ]
        },
        {
         "marker": {
          "color": "rgba(100, 100, 100, 1)"
         },
         "name": "War",
         "orientation": "h",
         "type": "bar",
         "uid": "f3612212-ad9d-11e8-813a-60030899ee42",
         "x": [
          0.005277926202882728,
          0.048920154272152454,
          0.02284734508735775
         ],
         "y": [
          "Japan",
          "China",
          "US/Canada"
         ]
        },
        {
         "marker": {
          "color": "rgba(200, 200, 200, 1)"
         },
         "name": "History",
         "orientation": "h",
         "type": "bar",
         "uid": "f3612406-ad9d-11e8-afc4-60030899ee42",
         "x": [
          0.005277926202882728,
          0,
          0.007153309075712857
         ],
         "y": [
          "Japan",
          "China",
          "US/Canada"
         ]
        }
       ],
       "layout": {
        "annotations": [
         {
          "font": {
           "color": "rgba(245, 246, 249, 1)",
           "family": "Calibri",
           "size": 15
          },
          "showarrow": false,
          "text": "Action",
          "x": 0.0548194792462009,
          "y": "Japan"
         },
         {
          "font": {
           "color": "rgba(245, 246, 249, 1)",
           "family": "Calibri",
           "size": 15
          },
          "showarrow": false,
          "text": "Adventure",
          "x": 0.16940469155744237,
          "y": "Japan"
         },
         {
          "font": {
           "color": "rgba(245, 246, 249, 1)",
           "family": "Calibri",
           "size": 15
          },
          "showarrow": false,
          "text": "Animation",
          "x": 0.2847197943531454,
          "y": "Japan"
         },
         {
          "font": {
           "color": "rgba(245, 246, 249, 1)",
           "family": "Calibri",
           "size": 15
          },
          "showarrow": false,
          "text": "Comedy",
          "x": 0.3735660379902968,
          "y": "Japan"
         },
         {
          "font": {
           "color": "rgba(245, 246, 249, 1)",
           "family": "Calibri",
           "size": 15
          },
          "showarrow": false,
          "text": "Family",
          "x": 0.5810376600146204,
          "y": "Japan"
         },
         {
          "font": {
           "color": "rgba(245, 246, 249, 1)",
           "family": "Calibri",
           "size": 15
          },
          "showarrow": false,
          "text": "Fantasy",
          "x": 0.7025161647821178,
          "y": "Japan"
         },
         {
          "font": {
           "color": "rgba(245, 246, 249, 1)",
           "family": "Calibri",
           "size": 15
          },
          "showarrow": false,
          "text": "Action",
          "x": 0.13503781432273898,
          "y": "China"
         },
         {
          "font": {
           "color": "rgba(245, 246, 249, 1)",
           "family": "Calibri",
           "size": 15
          },
          "showarrow": false,
          "text": "Adventure",
          "x": 0.24473335649251532,
          "y": "China"
         },
         {
          "font": {
           "color": "rgba(245, 246, 249, 1)",
           "family": "Calibri",
           "size": 15
          },
          "showarrow": false,
          "text": "Comedy",
          "x": 0.3819150282470164,
          "y": "China"
         },
         {
          "font": {
           "color": "rgba(245, 246, 249, 1)",
           "family": "Calibri",
           "size": 15
          },
          "showarrow": false,
          "text": "Drama",
          "x": 0.5185116987076794,
          "y": "China"
         },
         {
          "font": {
           "color": "rgba(245, 246, 249, 1)",
           "family": "Calibri",
           "size": 15
          },
          "showarrow": false,
          "text": "Fantasy",
          "x": 0.6402960153049805,
          "y": "China"
         },
         {
          "font": {
           "color": "rgba(245, 246, 249, 1)",
           "family": "Calibri",
           "size": 15
          },
          "showarrow": false,
          "text": "Thriller",
          "x": 0.9030798457278476,
          "y": "China"
         },
         {
          "font": {
           "color": "rgba(245, 246, 249, 1)",
           "family": "Calibri",
           "size": 15
          },
          "showarrow": false,
          "text": "Action",
          "x": 0.1089799367125149,
          "y": "US/Canada"
         },
         {
          "font": {
           "color": "rgba(245, 246, 249, 1)",
           "family": "Calibri",
           "size": 15
          },
          "showarrow": false,
          "text": "Adventure",
          "x": 0.24289393302237006,
          "y": "US/Canada"
         },
         {
          "font": {
           "color": "rgba(245, 246, 249, 1)",
           "family": "Calibri",
           "size": 15
          },
          "showarrow": false,
          "text": "Fantasy",
          "x": 0.6791107787613915,
          "y": "US/Canada"
         },
         {
          "font": {
           "color": "rgba(245, 246, 249, 1)",
           "family": "Calibri",
           "size": 15
          },
          "showarrow": false,
          "text": "Sci-Fi",
          "x": 0.8784868183275316,
          "y": "US/Canada"
         }
        ],
        "barmode": "stack",
        "margin": {
         "l": 120
        },
        "showlegend": false,
        "title": "Contributions of Movie Genres to Total Gross by Country",
        "titlefont": {
         "size": 20
        },
        "xaxis": {
         "showline": true,
         "tickfont": {
          "size": 15
         },
         "tickformat": ".0%",
         "title": "Accumulated Ratio of Total Gross",
         "titlefont": {
          "size": 16
         }
        },
        "yaxis": {
         "showline": true,
         "tickfont": {
          "size": 15
         },
         "title": "Country",
         "titlefont": {
          "size": 16
         }
        }
       }
      },
      "text/html": [
       "<div id=\"eed47837-8cf6-4183-9e14-d90204256c11\" style=\"height: 525px; width: 100%;\" class=\"plotly-graph-div\"></div><script type=\"text/javascript\">require([\"plotly\"], function(Plotly) { window.PLOTLYENV=window.PLOTLYENV || {};window.PLOTLYENV.BASE_URL=\"https://plot.ly\";\n",
       "        Plotly.plot(\n",
       "            'eed47837-8cf6-4183-9e14-d90204256c11',\n",
       "            [{\"marker\": {\"color\": \"rgba(194, 0, 0, 1)\"}, \"name\": \"Action\", \"orientation\": \"h\", \"x\": [0.1028194792462009, 0.183037814322739, 0.1569799367125149], \"y\": [\"Japan\", \"China\", \"US/Canada\"], \"type\": \"bar\", \"uid\": \"f360f92c-ad9d-11e8-9748-60030899ee42\"}, {\"marker\": {\"color\": \"rgba(37, 0, 204, 1)\"}, \"name\": \"Adventure\", \"orientation\": \"h\", \"x\": [0.11458521231124146, 0.10969554216977631, 0.13391399630985515], \"y\": [\"Japan\", \"China\", \"US/Canada\"], \"type\": \"bar\", \"uid\": \"f360fe2c-ad9d-11e8-ba76-60030899ee42\"}, {\"marker\": {\"color\": \"rgba(204, 0, 139, 1)\"}, \"name\": \"Animation\", \"orientation\": \"h\", \"x\": [0.115315102795703, 0.019894386307763353, 0.05056004418898859], \"y\": [\"Japan\", \"China\", \"US/Canada\"], \"type\": \"bar\", \"uid\": \"f36100c0-ad9d-11e8-b356-60030899ee42\"}, {\"marker\": {\"color\": \"rgba(230, 230, 230, 1)\"}, \"name\": \"Biography\", \"orientation\": \"h\", \"x\": [0, 0.011055418023355029, 0.00663195260650076], \"y\": [\"Japan\", \"China\", \"US/Canada\"], \"type\": \"bar\", \"uid\": \"f361035e-ad9d-11e8-ba0f-60030899ee42\"}, {\"marker\": {\"color\": \"rgba(48, 204, 0, 1)\"}, \"name\": \"Comedy\", \"orientation\": \"h\", \"x\": [0.0888462436371514, 0.10623186742338268, 0.07358860379584757], \"y\": [\"Japan\", \"China\", \"US/Canada\"], \"type\": \"bar\", \"uid\": \"f36105ac-ad9d-11e8-8ab9-60030899ee42\"}, {\"marker\": {\"color\": \"rgba(226, 145, 24, 1)\"}, \"name\": \"Comic\", \"orientation\": \"h\", \"x\": [0.026486611991212362, 0.026190974788659227, 0.07922606536496163], \"y\": [\"Japan\", \"China\", \"US/Canada\"], \"type\": \"bar\", \"uid\": \"f36107f0-ad9d-11e8-886b-60030899ee42\"}, {\"marker\": {\"color\": \"rgba(220, 220, 220, 1)\"}, \"name\": \"Crime\", \"orientation\": \"h\", \"x\": [0.017190184079856993, 0.022494826236432525, 0.00859742687873982], \"y\": [\"Japan\", \"China\", \"US/Canada\"], \"type\": \"bar\", \"uid\": \"f3610a28-ad9d-11e8-9c4d-60030899ee42\"}, {\"marker\": {\"color\": \"rgba(204, 71, 0, 1)\"}, \"name\": \"Drama\", \"orientation\": \"h\", \"x\": [0.0484797231575513, 0.0879108694355713, 0.03485041344203677], \"y\": [\"Japan\", \"China\", \"US/Canada\"], \"type\": \"bar\", \"uid\": \"f3610c64-ad9d-11e8-b1c4-60030899ee42\"}, {\"marker\": {\"color\": \"rgba(116, 0, 204, 1)\"}, \"name\": \"Family\", \"orientation\": \"h\", \"x\": [0.115315102795703, 0.019894386307763353, 0.05056004418898859], \"y\": [\"Japan\", \"China\", \"US/Canada\"], \"type\": \"bar\", \"uid\": \"f3610e8a-ad9d-11e8-90e3-60030899ee42\"}, {\"marker\": {\"color\": \"rgba(204, 146, 0, 1)\"}, \"name\": \"Fantasy\", \"orientation\": \"h\", \"x\": [0.12147850476749736, 0.1018899302895377, 0.13220229527295774], \"y\": [\"Japan\", \"China\", \"US/Canada\"], \"type\": \"bar\", \"uid\": \"f36110ba-ad9d-11e8-a941-60030899ee42\"}, {\"marker\": {\"color\": \"rgba(180, 180, 180, 1)\"}, \"name\": \"Horror\", \"orientation\": \"h\", \"x\": [0.0052626435405760605, 0.009136852990131627, 0.019154143894148587], \"y\": [\"Japan\", \"China\", \"US/Canada\"], \"type\": \"bar\", \"uid\": \"f36112e2-ad9d-11e8-84c8-60030899ee42\"}, {\"marker\": {\"color\": \"rgba(160, 160, 160, 1)\"}, \"name\": \"Musical\", \"orientation\": \"h\", \"x\": [0.06504079774012794, 0.010836396662139433, 0.03378284352574076], \"y\": [\"Japan\", \"China\", \"US/Canada\"], \"type\": \"bar\", \"uid\": \"f3611510-ad9d-11e8-a95e-60030899ee42\"}, {\"marker\": {\"color\": \"rgba(140, 140, 140, 1)\"}, \"name\": \"Mystery\", \"orientation\": \"h\", \"x\": [0.02190419512259718, 0.025412623036443278, 0.014674680426366585], \"y\": [\"Japan\", \"China\", \"US/Canada\"], \"type\": \"bar\", \"uid\": \"f3611736-ad9d-11e8-9943-60030899ee42\"}, {\"marker\": {\"color\": \"rgba(120, 120, 120, 1)\"}, \"name\": \"Romance\", \"orientation\": \"h\", \"x\": [0.04711944650756811, 0.030409160518888416, 0.01917285028799532], \"y\": [\"Japan\", \"China\", \"US/Canada\"], \"type\": \"bar\", \"uid\": \"f3611966-ad9d-11e8-874e-60030899ee42\"}, {\"marker\": {\"color\": \"rgba(63, 0, 158, 1)\"}, \"name\": \"Sci-Fi\", \"orientation\": \"h\", \"x\": [0.06272299536834933, 0.06043991305021, 0.1125915214318889], \"y\": [\"Japan\", \"China\", \"US/Canada\"], \"type\": \"bar\", \"uid\": \"f3611b98-ad9d-11e8-84d2-60030899ee42\"}, {\"marker\": {\"color\": \"rgba(80, 80, 80, 1)\"}, \"name\": \"Sport\", \"orientation\": \"h\", \"x\": [0, 0.030178975784165098, 0], \"y\": [\"Japan\", \"China\", \"US/Canada\"], \"type\": \"bar\", \"uid\": \"f3611dc6-ad9d-11e8-bfce-60030899ee42\"}, {\"marker\": {\"color\": \"rgba(147, 21, 21, 1)\"}, \"name\": \"Thriller\", \"orientation\": \"h\", \"x\": [0.036877904532898145, 0.0963699083808892, 0.043512527509397735], \"y\": [\"Japan\", \"China\", \"US/Canada\"], \"type\": \"bar\", \"uid\": \"f361201e-ad9d-11e8-b321-60030899ee42\"}, {\"marker\": {\"color\": \"rgba(100, 100, 100, 1)\"}, \"name\": \"War\", \"orientation\": \"h\", \"x\": [0.005277926202882728, 0.048920154272152454, 0.02284734508735775], \"y\": [\"Japan\", \"China\", \"US/Canada\"], \"type\": \"bar\", \"uid\": \"f3612212-ad9d-11e8-813a-60030899ee42\"}, {\"marker\": {\"color\": \"rgba(200, 200, 200, 1)\"}, \"name\": \"History\", \"orientation\": \"h\", \"x\": [0.005277926202882728, 0, 0.007153309075712857], \"y\": [\"Japan\", \"China\", \"US/Canada\"], \"type\": \"bar\", \"uid\": \"f3612406-ad9d-11e8-afc4-60030899ee42\"}],\n",
       "            {\"annotations\": [{\"font\": {\"color\": \"rgba(245, 246, 249, 1)\", \"family\": \"Calibri\", \"size\": 15}, \"showarrow\": false, \"text\": \"Action\", \"x\": 0.0548194792462009, \"y\": \"Japan\"}, {\"font\": {\"color\": \"rgba(245, 246, 249, 1)\", \"family\": \"Calibri\", \"size\": 15}, \"showarrow\": false, \"text\": \"Adventure\", \"x\": 0.16940469155744237, \"y\": \"Japan\"}, {\"font\": {\"color\": \"rgba(245, 246, 249, 1)\", \"family\": \"Calibri\", \"size\": 15}, \"showarrow\": false, \"text\": \"Animation\", \"x\": 0.2847197943531454, \"y\": \"Japan\"}, {\"font\": {\"color\": \"rgba(245, 246, 249, 1)\", \"family\": \"Calibri\", \"size\": 15}, \"showarrow\": false, \"text\": \"Comedy\", \"x\": 0.3735660379902968, \"y\": \"Japan\"}, {\"font\": {\"color\": \"rgba(245, 246, 249, 1)\", \"family\": \"Calibri\", \"size\": 15}, \"showarrow\": false, \"text\": \"Family\", \"x\": 0.5810376600146204, \"y\": \"Japan\"}, {\"font\": {\"color\": \"rgba(245, 246, 249, 1)\", \"family\": \"Calibri\", \"size\": 15}, \"showarrow\": false, \"text\": \"Fantasy\", \"x\": 0.7025161647821178, \"y\": \"Japan\"}, {\"font\": {\"color\": \"rgba(245, 246, 249, 1)\", \"family\": \"Calibri\", \"size\": 15}, \"showarrow\": false, \"text\": \"Action\", \"x\": 0.13503781432273898, \"y\": \"China\"}, {\"font\": {\"color\": \"rgba(245, 246, 249, 1)\", \"family\": \"Calibri\", \"size\": 15}, \"showarrow\": false, \"text\": \"Adventure\", \"x\": 0.24473335649251532, \"y\": \"China\"}, {\"font\": {\"color\": \"rgba(245, 246, 249, 1)\", \"family\": \"Calibri\", \"size\": 15}, \"showarrow\": false, \"text\": \"Comedy\", \"x\": 0.3819150282470164, \"y\": \"China\"}, {\"font\": {\"color\": \"rgba(245, 246, 249, 1)\", \"family\": \"Calibri\", \"size\": 15}, \"showarrow\": false, \"text\": \"Drama\", \"x\": 0.5185116987076794, \"y\": \"China\"}, {\"font\": {\"color\": \"rgba(245, 246, 249, 1)\", \"family\": \"Calibri\", \"size\": 15}, \"showarrow\": false, \"text\": \"Fantasy\", \"x\": 0.6402960153049805, \"y\": \"China\"}, {\"font\": {\"color\": \"rgba(245, 246, 249, 1)\", \"family\": \"Calibri\", \"size\": 15}, \"showarrow\": false, \"text\": \"Thriller\", \"x\": 0.9030798457278476, \"y\": \"China\"}, {\"font\": {\"color\": \"rgba(245, 246, 249, 1)\", \"family\": \"Calibri\", \"size\": 15}, \"showarrow\": false, \"text\": \"Action\", \"x\": 0.1089799367125149, \"y\": \"US/Canada\"}, {\"font\": {\"color\": \"rgba(245, 246, 249, 1)\", \"family\": \"Calibri\", \"size\": 15}, \"showarrow\": false, \"text\": \"Adventure\", \"x\": 0.24289393302237006, \"y\": \"US/Canada\"}, {\"font\": {\"color\": \"rgba(245, 246, 249, 1)\", \"family\": \"Calibri\", \"size\": 15}, \"showarrow\": false, \"text\": \"Fantasy\", \"x\": 0.6791107787613915, \"y\": \"US/Canada\"}, {\"font\": {\"color\": \"rgba(245, 246, 249, 1)\", \"family\": \"Calibri\", \"size\": 15}, \"showarrow\": false, \"text\": \"Sci-Fi\", \"x\": 0.8784868183275316, \"y\": \"US/Canada\"}], \"barmode\": \"stack\", \"margin\": {\"l\": 120}, \"showlegend\": false, \"title\": \"Contributions of Movie Genres to Total Gross by Country\", \"titlefont\": {\"size\": 20}, \"xaxis\": {\"showline\": true, \"tickfont\": {\"size\": 15}, \"tickformat\": \".0%\", \"title\": \"Accumulated Ratio of Total Gross\", \"titlefont\": {\"size\": 16}}, \"yaxis\": {\"showline\": true, \"tickfont\": {\"size\": 15}, \"title\": \"Country\", \"titlefont\": {\"size\": 16}}},\n",
       "            {\"showLink\": true, \"linkText\": \"Export to plot.ly\"}\n",
       "        ).then(function () {return Plotly.addFrames('eed47837-8cf6-4183-9e14-d90204256c11',{});}).then(function(){Plotly.animate('eed47837-8cf6-4183-9e14-d90204256c11');})\n",
       "        });</script>"
      ],
      "text/vnd.plotly.v1+html": [
       "<div id=\"eed47837-8cf6-4183-9e14-d90204256c11\" style=\"height: 525px; width: 100%;\" class=\"plotly-graph-div\"></div><script type=\"text/javascript\">require([\"plotly\"], function(Plotly) { window.PLOTLYENV=window.PLOTLYENV || {};window.PLOTLYENV.BASE_URL=\"https://plot.ly\";\n",
       "        Plotly.plot(\n",
       "            'eed47837-8cf6-4183-9e14-d90204256c11',\n",
       "            [{\"marker\": {\"color\": \"rgba(194, 0, 0, 1)\"}, \"name\": \"Action\", \"orientation\": \"h\", \"x\": [0.1028194792462009, 0.183037814322739, 0.1569799367125149], \"y\": [\"Japan\", \"China\", \"US/Canada\"], \"type\": \"bar\", \"uid\": \"f360f92c-ad9d-11e8-9748-60030899ee42\"}, {\"marker\": {\"color\": \"rgba(37, 0, 204, 1)\"}, \"name\": \"Adventure\", \"orientation\": \"h\", \"x\": [0.11458521231124146, 0.10969554216977631, 0.13391399630985515], \"y\": [\"Japan\", \"China\", \"US/Canada\"], \"type\": \"bar\", \"uid\": \"f360fe2c-ad9d-11e8-ba76-60030899ee42\"}, {\"marker\": {\"color\": \"rgba(204, 0, 139, 1)\"}, \"name\": \"Animation\", \"orientation\": \"h\", \"x\": [0.115315102795703, 0.019894386307763353, 0.05056004418898859], \"y\": [\"Japan\", \"China\", \"US/Canada\"], \"type\": \"bar\", \"uid\": \"f36100c0-ad9d-11e8-b356-60030899ee42\"}, {\"marker\": {\"color\": \"rgba(230, 230, 230, 1)\"}, \"name\": \"Biography\", \"orientation\": \"h\", \"x\": [0, 0.011055418023355029, 0.00663195260650076], \"y\": [\"Japan\", \"China\", \"US/Canada\"], \"type\": \"bar\", \"uid\": \"f361035e-ad9d-11e8-ba0f-60030899ee42\"}, {\"marker\": {\"color\": \"rgba(48, 204, 0, 1)\"}, \"name\": \"Comedy\", \"orientation\": \"h\", \"x\": [0.0888462436371514, 0.10623186742338268, 0.07358860379584757], \"y\": [\"Japan\", \"China\", \"US/Canada\"], \"type\": \"bar\", \"uid\": \"f36105ac-ad9d-11e8-8ab9-60030899ee42\"}, {\"marker\": {\"color\": \"rgba(226, 145, 24, 1)\"}, \"name\": \"Comic\", \"orientation\": \"h\", \"x\": [0.026486611991212362, 0.026190974788659227, 0.07922606536496163], \"y\": [\"Japan\", \"China\", \"US/Canada\"], \"type\": \"bar\", \"uid\": \"f36107f0-ad9d-11e8-886b-60030899ee42\"}, {\"marker\": {\"color\": \"rgba(220, 220, 220, 1)\"}, \"name\": \"Crime\", \"orientation\": \"h\", \"x\": [0.017190184079856993, 0.022494826236432525, 0.00859742687873982], \"y\": [\"Japan\", \"China\", \"US/Canada\"], \"type\": \"bar\", \"uid\": \"f3610a28-ad9d-11e8-9c4d-60030899ee42\"}, {\"marker\": {\"color\": \"rgba(204, 71, 0, 1)\"}, \"name\": \"Drama\", \"orientation\": \"h\", \"x\": [0.0484797231575513, 0.0879108694355713, 0.03485041344203677], \"y\": [\"Japan\", \"China\", \"US/Canada\"], \"type\": \"bar\", \"uid\": \"f3610c64-ad9d-11e8-b1c4-60030899ee42\"}, {\"marker\": {\"color\": \"rgba(116, 0, 204, 1)\"}, \"name\": \"Family\", \"orientation\": \"h\", \"x\": [0.115315102795703, 0.019894386307763353, 0.05056004418898859], \"y\": [\"Japan\", \"China\", \"US/Canada\"], \"type\": \"bar\", \"uid\": \"f3610e8a-ad9d-11e8-90e3-60030899ee42\"}, {\"marker\": {\"color\": \"rgba(204, 146, 0, 1)\"}, \"name\": \"Fantasy\", \"orientation\": \"h\", \"x\": [0.12147850476749736, 0.1018899302895377, 0.13220229527295774], \"y\": [\"Japan\", \"China\", \"US/Canada\"], \"type\": \"bar\", \"uid\": \"f36110ba-ad9d-11e8-a941-60030899ee42\"}, {\"marker\": {\"color\": \"rgba(180, 180, 180, 1)\"}, \"name\": \"Horror\", \"orientation\": \"h\", \"x\": [0.0052626435405760605, 0.009136852990131627, 0.019154143894148587], \"y\": [\"Japan\", \"China\", \"US/Canada\"], \"type\": \"bar\", \"uid\": \"f36112e2-ad9d-11e8-84c8-60030899ee42\"}, {\"marker\": {\"color\": \"rgba(160, 160, 160, 1)\"}, \"name\": \"Musical\", \"orientation\": \"h\", \"x\": [0.06504079774012794, 0.010836396662139433, 0.03378284352574076], \"y\": [\"Japan\", \"China\", \"US/Canada\"], \"type\": \"bar\", \"uid\": \"f3611510-ad9d-11e8-a95e-60030899ee42\"}, {\"marker\": {\"color\": \"rgba(140, 140, 140, 1)\"}, \"name\": \"Mystery\", \"orientation\": \"h\", \"x\": [0.02190419512259718, 0.025412623036443278, 0.014674680426366585], \"y\": [\"Japan\", \"China\", \"US/Canada\"], \"type\": \"bar\", \"uid\": \"f3611736-ad9d-11e8-9943-60030899ee42\"}, {\"marker\": {\"color\": \"rgba(120, 120, 120, 1)\"}, \"name\": \"Romance\", \"orientation\": \"h\", \"x\": [0.04711944650756811, 0.030409160518888416, 0.01917285028799532], \"y\": [\"Japan\", \"China\", \"US/Canada\"], \"type\": \"bar\", \"uid\": \"f3611966-ad9d-11e8-874e-60030899ee42\"}, {\"marker\": {\"color\": \"rgba(63, 0, 158, 1)\"}, \"name\": \"Sci-Fi\", \"orientation\": \"h\", \"x\": [0.06272299536834933, 0.06043991305021, 0.1125915214318889], \"y\": [\"Japan\", \"China\", \"US/Canada\"], \"type\": \"bar\", \"uid\": \"f3611b98-ad9d-11e8-84d2-60030899ee42\"}, {\"marker\": {\"color\": \"rgba(80, 80, 80, 1)\"}, \"name\": \"Sport\", \"orientation\": \"h\", \"x\": [0, 0.030178975784165098, 0], \"y\": [\"Japan\", \"China\", \"US/Canada\"], \"type\": \"bar\", \"uid\": \"f3611dc6-ad9d-11e8-bfce-60030899ee42\"}, {\"marker\": {\"color\": \"rgba(147, 21, 21, 1)\"}, \"name\": \"Thriller\", \"orientation\": \"h\", \"x\": [0.036877904532898145, 0.0963699083808892, 0.043512527509397735], \"y\": [\"Japan\", \"China\", \"US/Canada\"], \"type\": \"bar\", \"uid\": \"f361201e-ad9d-11e8-b321-60030899ee42\"}, {\"marker\": {\"color\": \"rgba(100, 100, 100, 1)\"}, \"name\": \"War\", \"orientation\": \"h\", \"x\": [0.005277926202882728, 0.048920154272152454, 0.02284734508735775], \"y\": [\"Japan\", \"China\", \"US/Canada\"], \"type\": \"bar\", \"uid\": \"f3612212-ad9d-11e8-813a-60030899ee42\"}, {\"marker\": {\"color\": \"rgba(200, 200, 200, 1)\"}, \"name\": \"History\", \"orientation\": \"h\", \"x\": [0.005277926202882728, 0, 0.007153309075712857], \"y\": [\"Japan\", \"China\", \"US/Canada\"], \"type\": \"bar\", \"uid\": \"f3612406-ad9d-11e8-afc4-60030899ee42\"}],\n",
       "            {\"annotations\": [{\"font\": {\"color\": \"rgba(245, 246, 249, 1)\", \"family\": \"Calibri\", \"size\": 15}, \"showarrow\": false, \"text\": \"Action\", \"x\": 0.0548194792462009, \"y\": \"Japan\"}, {\"font\": {\"color\": \"rgba(245, 246, 249, 1)\", \"family\": \"Calibri\", \"size\": 15}, \"showarrow\": false, \"text\": \"Adventure\", \"x\": 0.16940469155744237, \"y\": \"Japan\"}, {\"font\": {\"color\": \"rgba(245, 246, 249, 1)\", \"family\": \"Calibri\", \"size\": 15}, \"showarrow\": false, \"text\": \"Animation\", \"x\": 0.2847197943531454, \"y\": \"Japan\"}, {\"font\": {\"color\": \"rgba(245, 246, 249, 1)\", \"family\": \"Calibri\", \"size\": 15}, \"showarrow\": false, \"text\": \"Comedy\", \"x\": 0.3735660379902968, \"y\": \"Japan\"}, {\"font\": {\"color\": \"rgba(245, 246, 249, 1)\", \"family\": \"Calibri\", \"size\": 15}, \"showarrow\": false, \"text\": \"Family\", \"x\": 0.5810376600146204, \"y\": \"Japan\"}, {\"font\": {\"color\": \"rgba(245, 246, 249, 1)\", \"family\": \"Calibri\", \"size\": 15}, \"showarrow\": false, \"text\": \"Fantasy\", \"x\": 0.7025161647821178, \"y\": \"Japan\"}, {\"font\": {\"color\": \"rgba(245, 246, 249, 1)\", \"family\": \"Calibri\", \"size\": 15}, \"showarrow\": false, \"text\": \"Action\", \"x\": 0.13503781432273898, \"y\": \"China\"}, {\"font\": {\"color\": \"rgba(245, 246, 249, 1)\", \"family\": \"Calibri\", \"size\": 15}, \"showarrow\": false, \"text\": \"Adventure\", \"x\": 0.24473335649251532, \"y\": \"China\"}, {\"font\": {\"color\": \"rgba(245, 246, 249, 1)\", \"family\": \"Calibri\", \"size\": 15}, \"showarrow\": false, \"text\": \"Comedy\", \"x\": 0.3819150282470164, \"y\": \"China\"}, {\"font\": {\"color\": \"rgba(245, 246, 249, 1)\", \"family\": \"Calibri\", \"size\": 15}, \"showarrow\": false, \"text\": \"Drama\", \"x\": 0.5185116987076794, \"y\": \"China\"}, {\"font\": {\"color\": \"rgba(245, 246, 249, 1)\", \"family\": \"Calibri\", \"size\": 15}, \"showarrow\": false, \"text\": \"Fantasy\", \"x\": 0.6402960153049805, \"y\": \"China\"}, {\"font\": {\"color\": \"rgba(245, 246, 249, 1)\", \"family\": \"Calibri\", \"size\": 15}, \"showarrow\": false, \"text\": \"Thriller\", \"x\": 0.9030798457278476, \"y\": \"China\"}, {\"font\": {\"color\": \"rgba(245, 246, 249, 1)\", \"family\": \"Calibri\", \"size\": 15}, \"showarrow\": false, \"text\": \"Action\", \"x\": 0.1089799367125149, \"y\": \"US/Canada\"}, {\"font\": {\"color\": \"rgba(245, 246, 249, 1)\", \"family\": \"Calibri\", \"size\": 15}, \"showarrow\": false, \"text\": \"Adventure\", \"x\": 0.24289393302237006, \"y\": \"US/Canada\"}, {\"font\": {\"color\": \"rgba(245, 246, 249, 1)\", \"family\": \"Calibri\", \"size\": 15}, \"showarrow\": false, \"text\": \"Fantasy\", \"x\": 0.6791107787613915, \"y\": \"US/Canada\"}, {\"font\": {\"color\": \"rgba(245, 246, 249, 1)\", \"family\": \"Calibri\", \"size\": 15}, \"showarrow\": false, \"text\": \"Sci-Fi\", \"x\": 0.8784868183275316, \"y\": \"US/Canada\"}], \"barmode\": \"stack\", \"margin\": {\"l\": 120}, \"showlegend\": false, \"title\": \"Contributions of Movie Genres to Total Gross by Country\", \"titlefont\": {\"size\": 20}, \"xaxis\": {\"showline\": true, \"tickfont\": {\"size\": 15}, \"tickformat\": \".0%\", \"title\": \"Accumulated Ratio of Total Gross\", \"titlefont\": {\"size\": 16}}, \"yaxis\": {\"showline\": true, \"tickfont\": {\"size\": 15}, \"title\": \"Country\", \"titlefont\": {\"size\": 16}}},\n",
       "            {\"showLink\": true, \"linkText\": \"Export to plot.ly\"}\n",
       "        ).then(function () {return Plotly.addFrames('eed47837-8cf6-4183-9e14-d90204256c11',{});}).then(function(){Plotly.animate('eed47837-8cf6-4183-9e14-d90204256c11');})\n",
       "        });</script>"
      ]
     },
     "metadata": {},
     "output_type": "display_data"
    }
   ],
   "source": [
    "genre_lis = df_country_genre.genre.unique()\n",
    "colors = {'Action':'rgba(194, 0, 0, 1)', 'Adventure':'rgba(37, 0, 204, 1)', 'Animation':'rgba(204, 0, 139, 1)',\n",
    "              'Comedy':'rgba(48, 204, 0, 1)', 'Comic':'rgba(226, 145, 24, 1)', 'Drama':'rgba(204, 71, 0, 1)', \n",
    "              'Family':'rgba(116, 0, 204, 1)', 'Fantasy':'rgba(204, 146, 0, 1)', 'Sci-Fi':'rgba(63, 0, 158, 1)', \n",
    "             'Thriller':'rgba(147, 21, 21, 1)', 'Biography':'rgba(230, 230, 230, 1)', 'Crime':'rgba(220, 220, 220, 1)',\n",
    "             'History':'rgba(200, 200, 200, 1)', 'Horror':'rgba(180, 180, 180, 1)', 'Musical':'rgba(160, 160, 160, 1)', \n",
    "              'Mystery':'rgba(140, 140, 140, 1)', 'Romance':'rgba(120, 120, 120, 1)', 'War':'rgba(100, 100, 100, 1)',\n",
    "              'Sport':'rgba(80, 80, 80, 1)' }\n",
    "\n",
    "\n",
    "trace = [go.Bar(x=list(df_genre_ratio.loc[df_genre_ratio.genre==genre,country_lis].values.flatten()), \n",
    "                y=country_lis, name=genre, orientation = 'h', marker=dict(color=colors[genre])) for genre in genre_lis]\n",
    "data = trace\n",
    "layout = go.Layout(title='Contributions of Movie Genres to Total Gross by Country', titlefont=dict(size=20),\n",
    "                   yaxis=dict(title='Country', showline=True, titlefont=dict(size=16), tickfont=dict(size=15)),\n",
    "                   xaxis=dict(title='Accumulated Ratio of Total Gross', showline=True, \n",
    "                              titlefont=dict(size=16), tickfont=dict(size=15),tickformat=\".0%\"), \n",
    "                   showlegend=False, barmode='stack', margin=dict(l=120))\n",
    "\n",
    "\n",
    "annotations = []\n",
    "\n",
    "for country in country_lis:\n",
    "    for i in range(0, len(df_genre_ratio)):\n",
    "        ratio = df_genre_ratio[country][i]\n",
    "        genre = df_genre_ratio['genre'][i]\n",
    "        if ratio>0.08:\n",
    "            x = df_genre_ratio[country][0:i+1].sum()-0.048\n",
    "            text = df_genre_ratio['genre'][i]\n",
    "            annotations.append(dict(x=x, y=country, text=text,\n",
    "                                  font=dict(family='Calibri', size=15,\n",
    "                                  color='rgba(245, 246, 249, 1)'),\n",
    "                                  showarrow=False))\n",
    "layout['annotations'] = annotations\n",
    "fig = go.Figure(data=data, layout=layout)\n",
    "offline.iplot(fig)"
   ]
  },
  {
   "cell_type": "markdown",
   "metadata": {},
   "source": [
    "US, China and Japan have very different tastes on movie genres. Though they all show great interests in Action, Adventure and Fantasy, US prefers more Sci-Fi, China likes more Comedy and Thriller, while Japan loves Animation and Family elements. Japan is especially interesting in regarding to its preference on Animation."
   ]
  },
  {
   "cell_type": "markdown",
   "metadata": {},
   "source": [
    "<a id='box_office_contribution_key_genres'></a>"
   ]
  },
  {
   "cell_type": "markdown",
   "metadata": {},
   "source": [
    "### 2) Box Office Contributions by Key Movie Genres to Top 20 Movies in Each Market"
   ]
  },
  {
   "cell_type": "code",
   "execution_count": 10,
   "metadata": {
    "collapsed": true
   },
   "outputs": [],
   "source": [
    "# Restructure data to row as country, genre as column\n",
    "key_genre_lis = ['Adventure','Animation','Fantasy']\n",
    "df_country_ratio = pd.DataFrame()\n",
    "\n",
    "for i in range(0,len(key_genre_lis)):\n",
    "    country_ratio_lis = []\n",
    "    genre = key_genre_lis[i]\n",
    "    country_ratio_lis.append(genre)\n",
    "    for j in range(0, len(country_lis)):\n",
    "        if len(df_country_genre_ratio.loc[\n",
    "            (df_country_genre_ratio.genre==key_genre_lis[i])& (df_country_genre_ratio.country==country_lis[j])])>0:\n",
    "            ratio = df_country_genre_ratio.loc[\n",
    "                (df_country_genre_ratio.genre==key_genre_lis[i])& (\n",
    "                    df_country_genre_ratio.country==country_lis[j]), 'ratio'].values[0]\n",
    "        else:\n",
    "            ratio = 0\n",
    "        country_ratio_lis.append(ratio)\n",
    "    country_ratio_s = pd.Series(country_ratio_lis, name=False)\n",
    "    df_country_ratio = pd.concat((df_country_ratio, country_ratio_s), axis=1)\n",
    "    \n",
    "\n",
    "df_country_ratio.columns = df_country_ratio.iloc[0,:]\n",
    "df_country_ratio = df_country_ratio.drop(0).reset_index()\n",
    "df_country_ratio['country'] = pd.Series(country_lis)"
   ]
  },
  {
   "cell_type": "code",
   "execution_count": 29,
   "metadata": {},
   "outputs": [
    {
     "data": {
      "application/vnd.plotly.v1+json": {
       "data": [
        {
         "name": "Japan",
         "orientation": "h",
         "type": "bar",
         "uid": "4abf58ba-ae07-11e8-8904-60030899ee42",
         "x": [
          0.11458521231124146,
          0.115315102795703,
          0.12147850476749736
         ],
         "y": [
          "Adventure",
          "Animation",
          "Fantasy"
         ]
        },
        {
         "name": "China",
         "orientation": "h",
         "type": "bar",
         "uid": "4abf5bb4-ae07-11e8-9dbb-60030899ee42",
         "x": [
          0.10969554216977631,
          0.019894386307763353,
          0.1018899302895377
         ],
         "y": [
          "Adventure",
          "Animation",
          "Fantasy"
         ]
        },
        {
         "name": "US/Canada",
         "orientation": "h",
         "type": "bar",
         "uid": "4abf5dda-ae07-11e8-b21b-60030899ee42",
         "x": [
          0.13391399630985515,
          0.05056004418898859,
          0.13220229527295774
         ],
         "y": [
          "Adventure",
          "Animation",
          "Fantasy"
         ]
        }
       ],
       "layout": {
        "legend": {
         "font": {
          "size": 30
         }
        },
        "margin": {
         "l": 170
        },
        "showlegend": true,
        "title": "Contributions of Key Genres to Totle Box Office Revenue by Country",
        "titlefont": {
         "size": 25
        },
        "xaxis": {
         "showline": false,
         "tickfont": {
          "size": 30
         },
         "tickformat": ".0%",
         "title": "Percentage of Box Office Revenue",
         "titlefont": {
          "size": 20
         }
        },
        "yaxis": {
         "showline": true,
         "tickfont": {
          "size": 30
         }
        }
       }
      },
      "text/html": [
       "<div id=\"04bf7a8e-4a85-4661-9e3a-050eae1ca13e\" style=\"height: 525px; width: 100%;\" class=\"plotly-graph-div\"></div><script type=\"text/javascript\">require([\"plotly\"], function(Plotly) { window.PLOTLYENV=window.PLOTLYENV || {};window.PLOTLYENV.BASE_URL=\"https://plot.ly\";\n",
       "        Plotly.plot(\n",
       "            '04bf7a8e-4a85-4661-9e3a-050eae1ca13e',\n",
       "            [{\"name\": \"Japan\", \"orientation\": \"h\", \"x\": [0.11458521231124146, 0.115315102795703, 0.12147850476749736], \"y\": [\"Adventure\", \"Animation\", \"Fantasy\"], \"type\": \"bar\", \"uid\": \"4abf58ba-ae07-11e8-8904-60030899ee42\"}, {\"name\": \"China\", \"orientation\": \"h\", \"x\": [0.10969554216977631, 0.019894386307763353, 0.1018899302895377], \"y\": [\"Adventure\", \"Animation\", \"Fantasy\"], \"type\": \"bar\", \"uid\": \"4abf5bb4-ae07-11e8-9dbb-60030899ee42\"}, {\"name\": \"US/Canada\", \"orientation\": \"h\", \"x\": [0.13391399630985515, 0.05056004418898859, 0.13220229527295774], \"y\": [\"Adventure\", \"Animation\", \"Fantasy\"], \"type\": \"bar\", \"uid\": \"4abf5dda-ae07-11e8-b21b-60030899ee42\"}],\n",
       "            {\"legend\": {\"font\": {\"size\": 30}}, \"margin\": {\"l\": 170}, \"showlegend\": true, \"title\": \"Contributions of Key Genres to Totle Box Office Revenue by Country\", \"titlefont\": {\"size\": 25}, \"xaxis\": {\"showline\": false, \"tickfont\": {\"size\": 30}, \"tickformat\": \".0%\", \"title\": \"Percentage of Box Office Revenue\", \"titlefont\": {\"size\": 20}}, \"yaxis\": {\"showline\": true, \"tickfont\": {\"size\": 30}}},\n",
       "            {\"showLink\": true, \"linkText\": \"Export to plot.ly\"}\n",
       "        ).then(function () {return Plotly.addFrames('04bf7a8e-4a85-4661-9e3a-050eae1ca13e',{});}).then(function(){Plotly.animate('04bf7a8e-4a85-4661-9e3a-050eae1ca13e');})\n",
       "        });</script>"
      ],
      "text/vnd.plotly.v1+html": [
       "<div id=\"04bf7a8e-4a85-4661-9e3a-050eae1ca13e\" style=\"height: 525px; width: 100%;\" class=\"plotly-graph-div\"></div><script type=\"text/javascript\">require([\"plotly\"], function(Plotly) { window.PLOTLYENV=window.PLOTLYENV || {};window.PLOTLYENV.BASE_URL=\"https://plot.ly\";\n",
       "        Plotly.plot(\n",
       "            '04bf7a8e-4a85-4661-9e3a-050eae1ca13e',\n",
       "            [{\"name\": \"Japan\", \"orientation\": \"h\", \"x\": [0.11458521231124146, 0.115315102795703, 0.12147850476749736], \"y\": [\"Adventure\", \"Animation\", \"Fantasy\"], \"type\": \"bar\", \"uid\": \"4abf58ba-ae07-11e8-8904-60030899ee42\"}, {\"name\": \"China\", \"orientation\": \"h\", \"x\": [0.10969554216977631, 0.019894386307763353, 0.1018899302895377], \"y\": [\"Adventure\", \"Animation\", \"Fantasy\"], \"type\": \"bar\", \"uid\": \"4abf5bb4-ae07-11e8-9dbb-60030899ee42\"}, {\"name\": \"US/Canada\", \"orientation\": \"h\", \"x\": [0.13391399630985515, 0.05056004418898859, 0.13220229527295774], \"y\": [\"Adventure\", \"Animation\", \"Fantasy\"], \"type\": \"bar\", \"uid\": \"4abf5dda-ae07-11e8-b21b-60030899ee42\"}],\n",
       "            {\"legend\": {\"font\": {\"size\": 30}}, \"margin\": {\"l\": 170}, \"showlegend\": true, \"title\": \"Contributions of Key Genres to Totle Box Office Revenue by Country\", \"titlefont\": {\"size\": 25}, \"xaxis\": {\"showline\": false, \"tickfont\": {\"size\": 30}, \"tickformat\": \".0%\", \"title\": \"Percentage of Box Office Revenue\", \"titlefont\": {\"size\": 20}}, \"yaxis\": {\"showline\": true, \"tickfont\": {\"size\": 30}}},\n",
       "            {\"showLink\": true, \"linkText\": \"Export to plot.ly\"}\n",
       "        ).then(function () {return Plotly.addFrames('04bf7a8e-4a85-4661-9e3a-050eae1ca13e',{});}).then(function(){Plotly.animate('04bf7a8e-4a85-4661-9e3a-050eae1ca13e');})\n",
       "        });</script>"
      ]
     },
     "metadata": {},
     "output_type": "display_data"
    }
   ],
   "source": [
    "trace = [go.Bar(x=list(df_country_ratio.loc[df_country_ratio.country==country,key_genre_lis].values.flatten()), \n",
    "                y=key_genre_lis, name=country, orientation = 'h') for country in country_lis]\n",
    "data = trace\n",
    "layout = go.Layout(title=\"Contributions of Key Genres to Totle Box Office Revenue by Country\",\n",
    "                   titlefont=dict(size=25),\n",
    "                   yaxis=dict(showline=True, tickfont=dict(size=30)),\n",
    "                   xaxis=dict(title='Percentage of Box Office Revenue', titlefont=dict(size=20),\n",
    "                              showline=False, tickfont=dict(size=30),tickformat=\".0%\"), \n",
    "                   showlegend=True,\n",
    "                   legend=dict(font=dict(size=30)), margin=dict(l=170))\n",
    "\n",
    "\n",
    "fig = go.Figure(data=data, layout=layout)\n",
    "offline.iplot(fig)"
   ]
  },
  {
   "cell_type": "markdown",
   "metadata": {},
   "source": [
    "When focusing on the top 3 high contributing movie elements in Japan, the special preference on Animation is very outstanding. The contribution of animation genres to gross in the other two countries are much smaller than in Japan, while Fantasy and Adventure seem to be popular in all countries. "
   ]
  },
  {
   "cell_type": "markdown",
   "metadata": {},
   "source": [
    "<a id='proportion_elements'></a>"
   ]
  },
  {
   "cell_type": "markdown",
   "metadata": {},
   "source": [
    "### 3)  Proportion of Animations in Top 20 Movies in the 3"
   ]
  },
  {
   "cell_type": "code",
   "execution_count": 12,
   "metadata": {
    "collapsed": true
   },
   "outputs": [],
   "source": [
    "df_rank['animation'] = np.where(df_rank.genre_1=='Animation', 1, \n",
    "                                np.where(df_rank.genre_2=='Animation', 1, \n",
    "                                         np.where(df_rank.genre_3=='Animation', 1, \n",
    "                                                  np.where(df_rank.genre_4=='Animation', 1, \n",
    "                                                           np.where(df_rank.genre_5=='Animation', 1, \n",
    "                                                                    np.where(df_rank.genre_6=='Animation', 1, \n",
    "                                                                             np.where(df_rank.genre_7=='Animation', 1,\n",
    "                                                                                      np.where(df_rank.genre_8=='Animation', 1, 0 ) )))))))"
   ]
  },
  {
   "cell_type": "code",
   "execution_count": 13,
   "metadata": {
    "collapsed": true
   },
   "outputs": [],
   "source": [
    "df_animation = df_rank[['title','country','animation']].groupby(['country','animation'], as_index=False).count()\n",
    "df_animation.rename(columns={'title':'ani_proportion'}, inplace=True)\n",
    "df_animation['ani_proportion'] = df_animation['ani_proportion']/20\n",
    "df_animation['non_ani_proportion'] = 1-df_animation.ani_proportion\n",
    "df_animation = df_animation.drop('animation', axis=1)\n",
    "df_animation = df_animation.iloc[[1,3,5],:].transpose()\n",
    "df_animation.columns = df_animation.iloc[0,:]\n",
    "df_animation.drop('country', axis=0, inplace=True)"
   ]
  },
  {
   "cell_type": "code",
   "execution_count": 34,
   "metadata": {},
   "outputs": [
    {
     "data": {
      "application/vnd.plotly.v1+json": {
       "data": [
        {
         "marker": {
          "color": [
           "rgba(204, 0, 139, 1)",
           "rgba(140, 140, 140, 1)",
           "rgba(140, 140, 140, 1)"
          ]
         },
         "orientation": "h",
         "text": [
          "40%",
          "10%",
          "25%"
         ],
         "textfont": {
          "color": [
           "rgba(204, 0, 0, 1)",
           "rgba(140, 140, 140, 1)",
           "rgba(140, 140, 140, 1)"
          ],
          "size": [
           60,
           20,
           20
          ]
         },
         "textposition": "outside",
         "type": "bar",
         "uid": "63d71ae8-b084-11e8-8901-60030899ee42",
         "x": [
          0.4,
          0.1,
          0.25
         ],
         "y": [
          "Japan",
          "China",
          "US/Canada"
         ]
        }
       ],
       "layout": {
        "font": {
         "size": 15
        },
        "margin": {
         "l": 200
        },
        "title": "Year 2017 Percentage of Animation Movies of Top 20 movies by Country",
        "xaxis": {
         "range": [
          0,
          0.5
         ],
         "showline": false,
         "showticklabels": false,
         "ticks": "",
         "title": "Percentage of Top 20 Movies",
         "titlefont": {
          "size": 25
         }
        },
        "yaxis": {
         "showline": true,
         "tickfont": {
          "size": 25
         }
        }
       }
      },
      "text/html": [
       "<div id=\"b00360bd-70b0-4f99-bddc-335549b78e50\" style=\"height: 525px; width: 100%;\" class=\"plotly-graph-div\"></div><script type=\"text/javascript\">require([\"plotly\"], function(Plotly) { window.PLOTLYENV=window.PLOTLYENV || {};window.PLOTLYENV.BASE_URL=\"https://plot.ly\";\n",
       "        Plotly.plot(\n",
       "            'b00360bd-70b0-4f99-bddc-335549b78e50',\n",
       "            [{\"marker\": {\"color\": [\"rgba(204, 0, 139, 1)\", \"rgba(140, 140, 140, 1)\", \"rgba(140, 140, 140, 1)\"]}, \"orientation\": \"h\", \"text\": [\"40%\", \"10%\", \"25%\"], \"textfont\": {\"color\": [\"rgba(204, 0, 0, 1)\", \"rgba(140, 140, 140, 1)\", \"rgba(140, 140, 140, 1)\"], \"size\": [60, 20, 20]}, \"textposition\": \"outside\", \"x\": [0.4, 0.1, 0.25], \"y\": [\"Japan\", \"China\", \"US/Canada\"], \"type\": \"bar\", \"uid\": \"63d71ae8-b084-11e8-8901-60030899ee42\"}],\n",
       "            {\"font\": {\"size\": 15}, \"margin\": {\"l\": 200}, \"title\": \"Year 2017 Percentage of Animation Movies of Top 20 movies by Country\", \"xaxis\": {\"range\": [0, 0.5], \"showline\": false, \"showticklabels\": false, \"ticks\": \"\", \"title\": \"Percentage of Top 20 Movies\", \"titlefont\": {\"size\": 25}}, \"yaxis\": {\"showline\": true, \"tickfont\": {\"size\": 25}}},\n",
       "            {\"showLink\": true, \"linkText\": \"Export to plot.ly\"}\n",
       "        ).then(function () {return Plotly.addFrames('b00360bd-70b0-4f99-bddc-335549b78e50',{});}).then(function(){Plotly.animate('b00360bd-70b0-4f99-bddc-335549b78e50');})\n",
       "        });</script>"
      ],
      "text/vnd.plotly.v1+html": [
       "<div id=\"b00360bd-70b0-4f99-bddc-335549b78e50\" style=\"height: 525px; width: 100%;\" class=\"plotly-graph-div\"></div><script type=\"text/javascript\">require([\"plotly\"], function(Plotly) { window.PLOTLYENV=window.PLOTLYENV || {};window.PLOTLYENV.BASE_URL=\"https://plot.ly\";\n",
       "        Plotly.plot(\n",
       "            'b00360bd-70b0-4f99-bddc-335549b78e50',\n",
       "            [{\"marker\": {\"color\": [\"rgba(204, 0, 139, 1)\", \"rgba(140, 140, 140, 1)\", \"rgba(140, 140, 140, 1)\"]}, \"orientation\": \"h\", \"text\": [\"40%\", \"10%\", \"25%\"], \"textfont\": {\"color\": [\"rgba(204, 0, 0, 1)\", \"rgba(140, 140, 140, 1)\", \"rgba(140, 140, 140, 1)\"], \"size\": [60, 20, 20]}, \"textposition\": \"outside\", \"x\": [0.4, 0.1, 0.25], \"y\": [\"Japan\", \"China\", \"US/Canada\"], \"type\": \"bar\", \"uid\": \"63d71ae8-b084-11e8-8901-60030899ee42\"}],\n",
       "            {\"font\": {\"size\": 15}, \"margin\": {\"l\": 200}, \"title\": \"Year 2017 Percentage of Animation Movies of Top 20 movies by Country\", \"xaxis\": {\"range\": [0, 0.5], \"showline\": false, \"showticklabels\": false, \"ticks\": \"\", \"title\": \"Percentage of Top 20 Movies\", \"titlefont\": {\"size\": 25}}, \"yaxis\": {\"showline\": true, \"tickfont\": {\"size\": 25}}},\n",
       "            {\"showLink\": true, \"linkText\": \"Export to plot.ly\"}\n",
       "        ).then(function () {return Plotly.addFrames('b00360bd-70b0-4f99-bddc-335549b78e50',{});}).then(function(){Plotly.animate('b00360bd-70b0-4f99-bddc-335549b78e50');})\n",
       "        });</script>"
      ]
     },
     "metadata": {},
     "output_type": "display_data"
    }
   ],
   "source": [
    "x = list(df_animation.loc[df_animation.index=='ani_proportion',country_lis].values.flatten())\n",
    "y = country_lis\n",
    "\n",
    "color_japan = 'rgba(204, 0, 139, 1)'\n",
    "color_others = 'rgba(140, 140, 140, 1)'\n",
    "text_color_japan = 'rgba(204, 0, 0, 1)'\n",
    "text_color_others = 'rgba(140, 140, 140, 1)'\n",
    "\n",
    "colors  = [color_japan if y[i]=='Japan' else color_others for i in range(0,len(y))]\n",
    "text_size = [60 if y[i]=='Japan' else 20 for i in range(0,len(y))]\n",
    "text_color  = [text_color_japan if y[i]=='Japan' else text_color_others for i in range(0,len(y))]\n",
    "\n",
    "\n",
    "trace = [go.Bar(x=x, y=y, orientation = 'h', text=[str(round((ratio)*100))+'%' for ratio in x], textposition='outside',\n",
    "                textfont=dict(size=text_size, color=text_color), marker=dict(color=colors))] \n",
    "\n",
    "data = trace\n",
    "layout = go.Layout(title='Year 2017 Percentage of Animation Movies of Top 20 movies by Country',\n",
    "                   font=dict(size=15),\n",
    "                   yaxis=dict(showline=True, tickfont=dict(size=25)),\n",
    "                   xaxis=dict(title='Percentage of Top 20 Movies', showline=False, \n",
    "                              titlefont=dict(size=25), ticks='',showticklabels=False, range=(0,0.5)),\n",
    "                   margin=dict(l=200)\n",
    "                  )\n",
    "fig = go.Figure(data=data, layout=layout)\n",
    "offline.iplot(fig)"
   ]
  },
  {
   "cell_type": "markdown",
   "metadata": {},
   "source": [
    "40% of Japan's top 20 movies in 2017 are animations! Japan has a very strong cartoon culture, and it seems that this culture has a real big influence on Japanese people's movie preferences."
   ]
  },
  {
   "cell_type": "markdown",
   "metadata": {},
   "source": [
    "<a id='preference_plots'></a>"
   ]
  },
  {
   "cell_type": "markdown",
   "metadata": {},
   "source": [
    "### 2. Preference on Plots by Country"
   ]
  },
  {
   "cell_type": "markdown",
   "metadata": {},
   "source": [
    "Besides preferences on genre, I am also very curious on what types of plots are appreciated most by the 3 major markets. It can be a reflection of a country's culture and values. "
   ]
  },
  {
   "cell_type": "markdown",
   "metadata": {},
   "source": [
    "<a id='preference_us/canada'></a>"
   ]
  },
  {
   "cell_type": "markdown",
   "metadata": {},
   "source": [
    "### 1) Preference of US/Canada"
   ]
  },
  {
   "cell_type": "code",
   "execution_count": 16,
   "metadata": {
    "collapsed": true
   },
   "outputs": [],
   "source": [
    "# replace punctuations \n",
    "replace_punctuation = str.maketrans(string.punctuation, ' '*len(string.punctuation))\n",
    "df_rank.plots_summary = df_rank.plots_summary.apply(lambda txt: txt.translate(replace_punctuation))\n",
    "\n",
    "# lower case\n",
    "df_rank.plots_summary = df_rank.plots_summary.apply(lambda txt: txt.lower())"
   ]
  },
  {
   "cell_type": "code",
   "execution_count": 17,
   "metadata": {
    "collapsed": true
   },
   "outputs": [],
   "source": [
    "# plots summary by country\n",
    "plots_summary_us = df_rank.loc[df_rank.country=='US/Canada'].plots_summary.sum(axis=0)\n",
    "plots_summary_china = df_rank.loc[df_rank.country=='China'].plots_summary.sum(axis=0)\n",
    "plots_summary_japan = df_rank.loc[df_rank.country=='Japan'].plots_summary.sum(axis=0)\n",
    "plots_summary_uk = df_rank.loc[df_rank.country=='Britain'].plots_summary.sum(axis=0)\n",
    "plots_summary_india = df_rank.loc[df_rank.country=='India'].plots_summary.sum(axis=0)"
   ]
  },
  {
   "cell_type": "code",
   "execution_count": 18,
   "metadata": {
    "collapsed": true
   },
   "outputs": [],
   "source": [
    "stop_words = [\"a\", \"about\", \"above\", \"above\", \"across\", \"after\", \"afterwards\", \n",
    "              \"again\", \"against\", \"all\", \"almost\", \"alone\", \"along\", \"already\", \n",
    "              \"also\",\"although\",\"always\",\"am\",\"among\", \"amongst\", \"amoungst\", \"amount\",  \n",
    "              \"an\", \"and\", \"another\", \"any\",\"anyhow\",\"anyone\",\"anything\",\"anyway\", \"anywhere\", \n",
    "              \"are\", \"around\", \"as\",  \"at\", \"back\",\"be\",\"became\", \"because\",\"become\",\"becomes\", \n",
    "              \"becoming\", \"been\", \"before\", \"beforehand\", \"behind\", \"being\", \"below\", \"beside\", \n",
    "              \"besides\", \"between\", \"beyond\", \"bill\", \"both\", \"bottom\",\"but\", \"by\", \"call\", \"can\", \n",
    "              \"cannot\", \"cant\", \"co\", \"con\", \"could\", \"couldnt\", \"cry\", \"de\", \"describe\", \"detail\", \n",
    "              \"do\", \"done\", \"down\", \"due\", \"during\", \"each\", \"eg\", \"eight\", \"either\", \"eleven\",\"else\", \n",
    "              \"elsewhere\", \"empty\", \"enough\", \"etc\", \"even\", \"ever\", \"every\", \"everyone\", \"everything\", \n",
    "              \"everywhere\", \"except\", \"few\", \"fifteen\", \"fify\", \"fill\", \"find\", \"fire\", \"first\", \"five\", \n",
    "              \"for\", \"former\", \"formerly\", \"forty\", \"found\", \"four\", \"from\", \"front\", \"full\", \"further\", \n",
    "              \"get\", \"give\", \"go\", \"had\", \"has\", \"hasnt\", \"have\", \"he\", \"hence\", \"her\", \"here\", \"hereafter\",\n",
    "              \"hereby\", \"herein\", \"hereupon\", \"hers\", \"herself\", \"him\", \"himself\", \"his\", \"how\", \"however\", \n",
    "              \"hundred\", \"ie\", \"if\", \"in\", \"inc\", \"indeed\", \"interest\", \"into\", \"is\", \"it\", \"its\", \"itself\", \n",
    "              \"keep\", \"last\", \"latter\", \"latterly\", \"least\", \"less\", \"ltd\", \"made\", \"many\", \"may\", \"me\", \"meanwhile\",\n",
    "              \"might\", \"mill\", \"mine\", \"more\", \"moreover\", \"most\", \"mostly\", \"move\", \"much\", \"must\", \"my\", \"myself\", \n",
    "              \"name\", \"namely\", \"neither\", \"never\", \"nevertheless\", \"next\", \"nine\", \"no\", \"nobody\", \"none\", \"noone\",\n",
    "              \"nor\", \"not\", \"nothing\", \"now\", \"nowhere\", \"of\", \"off\", \"often\", \"on\", \"once\", \"one\", \"only\", \"onto\", \n",
    "              \"or\", \"other\", \"others\", \"otherwise\", \"our\", \"ours\", \"ourselves\", \"out\", \"over\", \"own\",\"part\", \"per\", \n",
    "              \"perhaps\", \"please\", \"put\", \"rather\", \"re\", \"same\", \"see\", \"seem\", \"seemed\", \"seeming\", \"seems\", \n",
    "              \"serious\", \"several\", \"she\", \"should\", \"show\", \"side\", \"since\", \"sincere\", \"six\", \"sixty\", \"so\", \n",
    "              \"some\", \"somehow\", \"someone\", \"something\", \"sometime\", \"sometimes\", \"somewhere\", \"still\", \"such\", \n",
    "              \"system\", \"take\", \"ten\", \"than\", \"that\", \"the\", \"their\", \"them\", \"themselves\", \"then\", \"thence\", \n",
    "              \"there\", \"thereafter\", \"thereby\", \"therefore\", \"therein\", \"thereupon\", \"these\", \"they\", \"thickv\", \n",
    "              \"third\", \"this\", \"those\", \"though\", \"three\", \"through\", \"throughout\", \"thru\", \"thus\", \"to\", \n",
    "              \"together\", \"too\", \"top\", \"toward\", \"towards\", \"twelve\", \"twenty\", \"two\", \"un\", \"under\", \"until\", \"up\", \n",
    "              \"upon\", \"us\", \"very\", \"via\", \"was\", \"we\", \"well\", \"were\", \"what\", \"whatever\", \"when\", \"whence\", \n",
    "              \"whenever\", \"where\", \"whereafter\", \"whereas\", \"whereby\", \"wherein\", \"whereupon\", \"wherever\", \"whether\",\n",
    "              \"which\", \"while\", \"whither\", \"who\", \"whoever\", \"whole\", \"whom\", \"whose\", \"why\", \"will\", \"with\",\n",
    "              \"within\", \"without\", \"would\", \"yet\", \"you\", \"your\", \"yours\", \"yourself\", \"yourselves\", \"the\",'yes',\n",
    "              'character','reference','feng']"
   ]
  },
  {
   "cell_type": "code",
   "execution_count": 19,
   "metadata": {
    "collapsed": true
   },
   "outputs": [],
   "source": [
    "wc = WordCloud(background_color=\"white\", max_words=6,\n",
    "               stopwords=stop_words, width=1280, height=628)"
   ]
  },
  {
   "cell_type": "code",
   "execution_count": 20,
   "metadata": {},
   "outputs": [
    {
     "data": {
      "image/png": "[encoded data removed]",
      "text/plain": [
       "<matplotlib.figure.Figure at 0x1148a0550>"
      ]
     },
     "metadata": {},
     "output_type": "display_data"
    }
   ],
   "source": [
    "wc.generate(plots_summary_us)\n",
    "plt.figure(figsize=(10,10))\n",
    "plt.imshow(wc, interpolation=\"bilinear\")\n",
    "plt.axis(\"off\")\n",
    "plt.show()"
   ]
  },
  {
   "cell_type": "markdown",
   "metadata": {},
   "source": [
    "World, new, old, power, game, discover, man are popular plots elements in US/Canada. The moviegoers there show a great care about the big matters. Also their taste seems to be very masculine, all about power and game. "
   ]
  },
  {
   "cell_type": "markdown",
   "metadata": {},
   "source": [
    "<a id='preference_china'></a>"
   ]
  },
  {
   "cell_type": "markdown",
   "metadata": {},
   "source": [
    "### 2) Preference of China"
   ]
  },
  {
   "cell_type": "code",
   "execution_count": 21,
   "metadata": {},
   "outputs": [
    {
     "data": {
      "image/png": "[encoded data removed]",
      "text/plain": [
       "<matplotlib.figure.Figure at 0x114eb4fd0>"
      ]
     },
     "metadata": {},
     "output_type": "display_data"
    }
   ],
   "source": [
    "wc.generate(plots_summary_china)\n",
    "plt.figure(figsize=(10,10))\n",
    "plt.imshow(wc, interpolation=\"bilinear\")\n",
    "plt.axis(\"off\")\n",
    "plt.show()"
   ]
  },
  {
   "cell_type": "markdown",
   "metadata": {},
   "source": [
    "Finds, team, deadly, China, army are among plot elements that pop up in the word cloud of China's top 20 movies' plots summaries. China's moviegoers don't care about world as much as US. But they show more interests on their own country. It seems that they are more teased by tense stories."
   ]
  },
  {
   "cell_type": "markdown",
   "metadata": {},
   "source": [
    "<a id='preference_japan'></a>"
   ]
  },
  {
   "cell_type": "markdown",
   "metadata": {},
   "source": [
    "### 3) Preference of Japan"
   ]
  },
  {
   "cell_type": "code",
   "execution_count": 22,
   "metadata": {},
   "outputs": [
    {
     "data": {
      "image/png": "[encoded data removed]",
      "text/plain": [
       "<matplotlib.figure.Figure at 0x114d4cf28>"
      ]
     },
     "metadata": {},
     "output_type": "display_data"
    }
   ],
   "source": [
    "wc.generate(plots_summary_japan)\n",
    "plt.figure(figsize=(10,10))\n",
    "plt.imshow(wc, interpolation=\"bilinear\")\n",
    "plt.axis(\"off\")\n",
    "plt.show()"
   ]
  },
  {
   "cell_type": "markdown",
   "metadata": {},
   "source": [
    "Mysterious, sakura, girl, friend are outstandingly popular movie plots in Japan, which is very different from US/Canada and China. It seems that Japanese people not only prefer animation world more to real world they also show a preference on plots about youth, girl, flowers, friends, which are much softer than the other two countries' tastes. Their taste is quite feminine, a total opposite to US/Canada. No wonder Japan is the origin of 'Lolita Fashion'."
   ]
  },
  {
   "cell_type": "markdown",
   "metadata": {},
   "source": [
    "<a id='appendix'></a>"
   ]
  },
  {
   "cell_type": "markdown",
   "metadata": {},
   "source": [
    "## Appendix"
   ]
  },
  {
   "cell_type": "markdown",
   "metadata": {},
   "source": [
    "<a id='market_share_full'></a>"
   ]
  },
  {
   "cell_type": "markdown",
   "metadata": {},
   "source": [
    "### Market Share - Full Version with All Countries Shown"
   ]
  },
  {
   "cell_type": "code",
   "execution_count": 23,
   "metadata": {
    "collapsed": true
   },
   "outputs": [],
   "source": [
    "df_market_full = pd.read_excel('World_movie_market_2017.xlsx', header=None, names=['country','box_office'])"
   ]
  },
  {
   "cell_type": "code",
   "execution_count": 24,
   "metadata": {},
   "outputs": [
    {
     "data": {
      "application/vnd.plotly.v1+json": {
       "data": [
        {
         "hole": 0.7,
         "hoverinfo": "label+percent",
         "labels": [
          "US/Canada",
          "China",
          "Japan",
          "UK",
          "India",
          "South Korea",
          "Fance",
          "Germany",
          "Russia",
          "Australia",
          "Mexico",
          "Brazil",
          "Spain",
          "Italy",
          "Taiwan",
          "Netherlands",
          "Indonesia",
          "Argentina",
          "Poland",
          "Turkey",
          "Hongkong",
          "Others"
         ],
         "showlegend": true,
         "sort": false,
         "textinfo": "label+percent",
         "textposition": "outside",
         "type": "pie",
         "uid": "20ec88a2-ad9e-11e8-b38c-60030899ee42",
         "values": [
          11.1,
          7.9,
          2,
          1.6,
          1.6,
          1.6,
          1.5,
          1.2,
          1,
          0.9,
          0.9,
          0.9,
          0.7,
          0.7,
          0.4,
          0.3,
          0.3,
          0.3,
          0.3,
          0.2,
          0.2,
          5
         ]
        }
       ],
       "layout": {
        "title": "2017 Global Movie Markets Share"
       }
      },
      "text/html": [
       "<div id=\"d61ac18b-ce45-46ca-9bd3-d3f608695f62\" style=\"height: 525px; width: 100%;\" class=\"plotly-graph-div\"></div><script type=\"text/javascript\">require([\"plotly\"], function(Plotly) { window.PLOTLYENV=window.PLOTLYENV || {};window.PLOTLYENV.BASE_URL=\"https://plot.ly\";Plotly.newPlot(\"d61ac18b-ce45-46ca-9bd3-d3f608695f62\", [{\"hole\": 0.7, \"hoverinfo\": \"label+percent\", \"labels\": [\"US/Canada\", \"China\", \"Japan\", \"UK\", \"India\", \"South Korea\", \"Fance\", \"Germany\", \"Russia\", \"Australia\", \"Mexico\", \"Brazil\", \"Spain\", \"Italy\", \"Taiwan\", \"Netherlands\", \"Indonesia\", \"Argentina\", \"Poland\", \"Turkey\", \"Hongkong\", \"Others\"], \"showlegend\": true, \"sort\": false, \"textinfo\": \"label+percent\", \"textposition\": \"outside\", \"values\": [11.1, 7.9, 2.0, 1.6, 1.6, 1.6, 1.5, 1.2, 1.0, 0.9, 0.9, 0.9, 0.7, 0.7, 0.4, 0.3, 0.3, 0.3, 0.3, 0.2, 0.2, 5.0], \"type\": \"pie\", \"uid\": \"20fb97fa-ad9e-11e8-a770-60030899ee42\"}], {\"title\": \"2017 Global Movie Markets Share\"}, {\"showLink\": true, \"linkText\": \"Export to plot.ly\"})});</script>"
      ],
      "text/vnd.plotly.v1+html": [
       "<div id=\"d61ac18b-ce45-46ca-9bd3-d3f608695f62\" style=\"height: 525px; width: 100%;\" class=\"plotly-graph-div\"></div><script type=\"text/javascript\">require([\"plotly\"], function(Plotly) { window.PLOTLYENV=window.PLOTLYENV || {};window.PLOTLYENV.BASE_URL=\"https://plot.ly\";Plotly.newPlot(\"d61ac18b-ce45-46ca-9bd3-d3f608695f62\", [{\"hole\": 0.7, \"hoverinfo\": \"label+percent\", \"labels\": [\"US/Canada\", \"China\", \"Japan\", \"UK\", \"India\", \"South Korea\", \"Fance\", \"Germany\", \"Russia\", \"Australia\", \"Mexico\", \"Brazil\", \"Spain\", \"Italy\", \"Taiwan\", \"Netherlands\", \"Indonesia\", \"Argentina\", \"Poland\", \"Turkey\", \"Hongkong\", \"Others\"], \"showlegend\": true, \"sort\": false, \"textinfo\": \"label+percent\", \"textposition\": \"outside\", \"values\": [11.1, 7.9, 2.0, 1.6, 1.6, 1.6, 1.5, 1.2, 1.0, 0.9, 0.9, 0.9, 0.7, 0.7, 0.4, 0.3, 0.3, 0.3, 0.3, 0.2, 0.2, 5.0], \"type\": \"pie\", \"uid\": \"20fb97fa-ad9e-11e8-a770-60030899ee42\"}], {\"title\": \"2017 Global Movie Markets Share\"}, {\"showLink\": true, \"linkText\": \"Export to plot.ly\"})});</script>"
      ]
     },
     "metadata": {},
     "output_type": "display_data"
    }
   ],
   "source": [
    "fig = {\n",
    "  \"data\": [\n",
    "    {\n",
    "      \"values\": list(df_market_full['box_office'].values.flatten()),\n",
    "      \"labels\": list(df_market_full['country'].values.flatten()),\n",
    "      \"hoverinfo\":\"label+percent\",\n",
    "        'textinfo':'label+percent',\n",
    "        'textposition':'outside',\n",
    "      \"hole\": .7,\n",
    "      \"type\": \"pie\",\n",
    "        'sort':False,\n",
    "        'showlegend':True\n",
    "    },\n",
    "    ],\n",
    "  \"layout\": {\n",
    "        \"title\":\"2017 Global Movie Markets Share\",\n",
    "\n",
    "    }\n",
    "}\n",
    "    \n",
    "\n",
    "offline.iplot(fig)"
   ]
  },
  {
   "cell_type": "markdown",
   "metadata": {},
   "source": [
    "<a id='preference_elements_full'></a>"
   ]
  },
  {
   "cell_type": "markdown",
   "metadata": {},
   "source": [
    "### Movie Elements Preference - Full Version with Legends"
   ]
  },
  {
   "cell_type": "code",
   "execution_count": 26,
   "metadata": {},
   "outputs": [
    {
     "data": {
      "application/vnd.plotly.v1+json": {
       "data": [
        {
         "name": "Action",
         "orientation": "h",
         "type": "bar",
         "uid": "6fe1423e-adb4-11e8-911f-60030899ee42",
         "x": [
          0.1028194792462009,
          0.183037814322739,
          0.1569799367125149
         ],
         "y": [
          "Japan",
          "China",
          "US/Canada"
         ]
        },
        {
         "name": "Adventure",
         "orientation": "h",
         "type": "bar",
         "uid": "6fe1455e-adb4-11e8-86bb-60030899ee42",
         "x": [
          0.11458521231124146,
          0.10969554216977631,
          0.13391399630985515
         ],
         "y": [
          "Japan",
          "China",
          "US/Canada"
         ]
        },
        {
         "name": "Animation",
         "orientation": "h",
         "type": "bar",
         "uid": "6fe1478c-adb4-11e8-ad51-60030899ee42",
         "x": [
          0.115315102795703,
          0.019894386307763353,
          0.05056004418898859
         ],
         "y": [
          "Japan",
          "China",
          "US/Canada"
         ]
        },
        {
         "name": "Biography",
         "orientation": "h",
         "type": "bar",
         "uid": "6fe14de2-adb4-11e8-b9b5-60030899ee42",
         "x": [
          0,
          0.011055418023355029,
          0.00663195260650076
         ],
         "y": [
          "Japan",
          "China",
          "US/Canada"
         ]
        },
        {
         "name": "Comedy",
         "orientation": "h",
         "type": "bar",
         "uid": "6fe152d8-adb4-11e8-9c80-60030899ee42",
         "x": [
          0.0888462436371514,
          0.10623186742338268,
          0.07358860379584757
         ],
         "y": [
          "Japan",
          "China",
          "US/Canada"
         ]
        },
        {
         "name": "Comic",
         "orientation": "h",
         "type": "bar",
         "uid": "6fe155ba-adb4-11e8-af34-60030899ee42",
         "x": [
          0.026486611991212362,
          0.026190974788659227,
          0.07922606536496163
         ],
         "y": [
          "Japan",
          "China",
          "US/Canada"
         ]
        },
        {
         "name": "Crime",
         "orientation": "h",
         "type": "bar",
         "uid": "6fe157f6-adb4-11e8-b321-60030899ee42",
         "x": [
          0.017190184079856993,
          0.022494826236432525,
          0.00859742687873982
         ],
         "y": [
          "Japan",
          "China",
          "US/Canada"
         ]
        },
        {
         "name": "Drama",
         "orientation": "h",
         "type": "bar",
         "uid": "6fe15a1c-adb4-11e8-805e-60030899ee42",
         "x": [
          0.0484797231575513,
          0.0879108694355713,
          0.03485041344203677
         ],
         "y": [
          "Japan",
          "China",
          "US/Canada"
         ]
        },
        {
         "name": "Family",
         "orientation": "h",
         "type": "bar",
         "uid": "6fe15c2e-adb4-11e8-8a1b-60030899ee42",
         "x": [
          0.115315102795703,
          0.019894386307763353,
          0.05056004418898859
         ],
         "y": [
          "Japan",
          "China",
          "US/Canada"
         ]
        },
        {
         "name": "Fantasy",
         "orientation": "h",
         "type": "bar",
         "uid": "6fe15e36-adb4-11e8-b8b1-60030899ee42",
         "x": [
          0.12147850476749736,
          0.1018899302895377,
          0.13220229527295774
         ],
         "y": [
          "Japan",
          "China",
          "US/Canada"
         ]
        },
        {
         "name": "Horror",
         "orientation": "h",
         "type": "bar",
         "uid": "6fe16034-adb4-11e8-9b30-60030899ee42",
         "x": [
          0.0052626435405760605,
          0.009136852990131627,
          0.019154143894148587
         ],
         "y": [
          "Japan",
          "China",
          "US/Canada"
         ]
        },
        {
         "name": "Musical",
         "orientation": "h",
         "type": "bar",
         "uid": "6fe16234-adb4-11e8-9034-60030899ee42",
         "x": [
          0.06504079774012794,
          0.010836396662139433,
          0.03378284352574076
         ],
         "y": [
          "Japan",
          "China",
          "US/Canada"
         ]
        },
        {
         "name": "Mystery",
         "orientation": "h",
         "type": "bar",
         "uid": "6fe16426-adb4-11e8-a3a7-60030899ee42",
         "x": [
          0.02190419512259718,
          0.025412623036443278,
          0.014674680426366585
         ],
         "y": [
          "Japan",
          "China",
          "US/Canada"
         ]
        },
        {
         "name": "Romance",
         "orientation": "h",
         "type": "bar",
         "uid": "6fe1662e-adb4-11e8-a5ec-60030899ee42",
         "x": [
          0.04711944650756811,
          0.030409160518888416,
          0.01917285028799532
         ],
         "y": [
          "Japan",
          "China",
          "US/Canada"
         ]
        },
        {
         "name": "Sci-Fi",
         "orientation": "h",
         "type": "bar",
         "uid": "6fe1682c-adb4-11e8-9606-60030899ee42",
         "x": [
          0.06272299536834933,
          0.06043991305021,
          0.1125915214318889
         ],
         "y": [
          "Japan",
          "China",
          "US/Canada"
         ]
        },
        {
         "name": "Sport",
         "orientation": "h",
         "type": "bar",
         "uid": "6fe16a28-adb4-11e8-a33e-60030899ee42",
         "x": [
          0,
          0.030178975784165098,
          0
         ],
         "y": [
          "Japan",
          "China",
          "US/Canada"
         ]
        },
        {
         "name": "Thriller",
         "orientation": "h",
         "type": "bar",
         "uid": "6fe16c28-adb4-11e8-a035-60030899ee42",
         "x": [
          0.036877904532898145,
          0.0963699083808892,
          0.043512527509397735
         ],
         "y": [
          "Japan",
          "China",
          "US/Canada"
         ]
        },
        {
         "name": "War",
         "orientation": "h",
         "type": "bar",
         "uid": "6fe16e1c-adb4-11e8-ad21-60030899ee42",
         "x": [
          0.005277926202882728,
          0.048920154272152454,
          0.02284734508735775
         ],
         "y": [
          "Japan",
          "China",
          "US/Canada"
         ]
        },
        {
         "name": "History",
         "orientation": "h",
         "type": "bar",
         "uid": "6fe17010-adb4-11e8-817d-60030899ee42",
         "x": [
          0.005277926202882728,
          0,
          0.007153309075712857
         ],
         "y": [
          "Japan",
          "China",
          "US/Canada"
         ]
        }
       ],
       "layout": {
        "annotations": [
         {
          "font": {
           "color": "rgba(245, 246, 249, 1)",
           "family": "Calibri",
           "size": 17
          },
          "showarrow": false,
          "text": "Action",
          "x": 0.052819479246200896,
          "y": "Japan"
         },
         {
          "font": {
           "color": "rgba(245, 246, 249, 1)",
           "family": "Calibri",
           "size": 17
          },
          "showarrow": false,
          "text": "Adventure",
          "x": 0.16740469155744236,
          "y": "Japan"
         },
         {
          "font": {
           "color": "rgba(245, 246, 249, 1)",
           "family": "Calibri",
           "size": 17
          },
          "showarrow": false,
          "text": "Animation",
          "x": 0.28271979435314537,
          "y": "Japan"
         },
         {
          "font": {
           "color": "rgba(245, 246, 249, 1)",
           "family": "Calibri",
           "size": 17
          },
          "showarrow": false,
          "text": "Comedy",
          "x": 0.3715660379902968,
          "y": "Japan"
         },
         {
          "font": {
           "color": "rgba(245, 246, 249, 1)",
           "family": "Calibri",
           "size": 17
          },
          "showarrow": false,
          "text": "Family",
          "x": 0.5790376600146204,
          "y": "Japan"
         },
         {
          "font": {
           "color": "rgba(245, 246, 249, 1)",
           "family": "Calibri",
           "size": 17
          },
          "showarrow": false,
          "text": "Fantasy",
          "x": 0.7005161647821178,
          "y": "Japan"
         },
         {
          "font": {
           "color": "rgba(245, 246, 249, 1)",
           "family": "Calibri",
           "size": 17
          },
          "showarrow": false,
          "text": "Action",
          "x": 0.13303781432273898,
          "y": "China"
         },
         {
          "font": {
           "color": "rgba(245, 246, 249, 1)",
           "family": "Calibri",
           "size": 17
          },
          "showarrow": false,
          "text": "Adventure",
          "x": 0.24273335649251532,
          "y": "China"
         },
         {
          "font": {
           "color": "rgba(245, 246, 249, 1)",
           "family": "Calibri",
           "size": 17
          },
          "showarrow": false,
          "text": "Comedy",
          "x": 0.3799150282470164,
          "y": "China"
         },
         {
          "font": {
           "color": "rgba(245, 246, 249, 1)",
           "family": "Calibri",
           "size": 17
          },
          "showarrow": false,
          "text": "Drama",
          "x": 0.5165116987076794,
          "y": "China"
         },
         {
          "font": {
           "color": "rgba(245, 246, 249, 1)",
           "family": "Calibri",
           "size": 17
          },
          "showarrow": false,
          "text": "Fantasy",
          "x": 0.6382960153049805,
          "y": "China"
         },
         {
          "font": {
           "color": "rgba(245, 246, 249, 1)",
           "family": "Calibri",
           "size": 17
          },
          "showarrow": false,
          "text": "Thriller",
          "x": 0.9010798457278476,
          "y": "China"
         },
         {
          "font": {
           "color": "rgba(245, 246, 249, 1)",
           "family": "Calibri",
           "size": 17
          },
          "showarrow": false,
          "text": "Action",
          "x": 0.10697993671251489,
          "y": "US/Canada"
         },
         {
          "font": {
           "color": "rgba(245, 246, 249, 1)",
           "family": "Calibri",
           "size": 17
          },
          "showarrow": false,
          "text": "Adventure",
          "x": 0.24089393302237005,
          "y": "US/Canada"
         },
         {
          "font": {
           "color": "rgba(245, 246, 249, 1)",
           "family": "Calibri",
           "size": 17
          },
          "showarrow": false,
          "text": "Comedy",
          "x": 0.37167453361370695,
          "y": "US/Canada"
         },
         {
          "font": {
           "color": "rgba(245, 246, 249, 1)",
           "family": "Calibri",
           "size": 17
          },
          "showarrow": false,
          "text": "Comic",
          "x": 0.4509005989786686,
          "y": "US/Canada"
         },
         {
          "font": {
           "color": "rgba(245, 246, 249, 1)",
           "family": "Calibri",
           "size": 17
          },
          "showarrow": false,
          "text": "Fantasy",
          "x": 0.6771107787613915,
          "y": "US/Canada"
         },
         {
          "font": {
           "color": "rgba(245, 246, 249, 1)",
           "family": "Calibri",
           "size": 17
          },
          "showarrow": false,
          "text": "Sci-Fi",
          "x": 0.8764868183275316,
          "y": "US/Canada"
         }
        ],
        "barmode": "stack",
        "font": {
         "size": 17
        },
        "legend": {
         "font": {
          "size": 10
         }
        },
        "margin": {
         "l": 120
        },
        "title": "Preference on Movie Genre by Country",
        "xaxis": {
         "showline": true,
         "tickfont": {
          "size": 15
         },
         "tickformat": ".0%",
         "title": "Accumulated Ratio of Total Gross",
         "titlefont": {
          "size": 16
         }
        },
        "yaxis": {
         "showline": true,
         "tickfont": {
          "size": 15
         },
         "title": "Country",
         "titlefont": {
          "size": 16
         }
        }
       }
      },
      "text/html": [
       "<div id=\"c974ec9a-ed17-4e65-bfec-0e21e6babac8\" style=\"height: 525px; width: 100%;\" class=\"plotly-graph-div\"></div><script type=\"text/javascript\">require([\"plotly\"], function(Plotly) { window.PLOTLYENV=window.PLOTLYENV || {};window.PLOTLYENV.BASE_URL=\"https://plot.ly\";\n",
       "        Plotly.plot(\n",
       "            'c974ec9a-ed17-4e65-bfec-0e21e6babac8',\n",
       "            [{\"name\": \"Action\", \"orientation\": \"h\", \"x\": [0.1028194792462009, 0.183037814322739, 0.1569799367125149], \"y\": [\"Japan\", \"China\", \"US/Canada\"], \"type\": \"bar\", \"uid\": \"6fe1423e-adb4-11e8-911f-60030899ee42\"}, {\"name\": \"Adventure\", \"orientation\": \"h\", \"x\": [0.11458521231124146, 0.10969554216977631, 0.13391399630985515], \"y\": [\"Japan\", \"China\", \"US/Canada\"], \"type\": \"bar\", \"uid\": \"6fe1455e-adb4-11e8-86bb-60030899ee42\"}, {\"name\": \"Animation\", \"orientation\": \"h\", \"x\": [0.115315102795703, 0.019894386307763353, 0.05056004418898859], \"y\": [\"Japan\", \"China\", \"US/Canada\"], \"type\": \"bar\", \"uid\": \"6fe1478c-adb4-11e8-ad51-60030899ee42\"}, {\"name\": \"Biography\", \"orientation\": \"h\", \"x\": [0, 0.011055418023355029, 0.00663195260650076], \"y\": [\"Japan\", \"China\", \"US/Canada\"], \"type\": \"bar\", \"uid\": \"6fe14de2-adb4-11e8-b9b5-60030899ee42\"}, {\"name\": \"Comedy\", \"orientation\": \"h\", \"x\": [0.0888462436371514, 0.10623186742338268, 0.07358860379584757], \"y\": [\"Japan\", \"China\", \"US/Canada\"], \"type\": \"bar\", \"uid\": \"6fe152d8-adb4-11e8-9c80-60030899ee42\"}, {\"name\": \"Comic\", \"orientation\": \"h\", \"x\": [0.026486611991212362, 0.026190974788659227, 0.07922606536496163], \"y\": [\"Japan\", \"China\", \"US/Canada\"], \"type\": \"bar\", \"uid\": \"6fe155ba-adb4-11e8-af34-60030899ee42\"}, {\"name\": \"Crime\", \"orientation\": \"h\", \"x\": [0.017190184079856993, 0.022494826236432525, 0.00859742687873982], \"y\": [\"Japan\", \"China\", \"US/Canada\"], \"type\": \"bar\", \"uid\": \"6fe157f6-adb4-11e8-b321-60030899ee42\"}, {\"name\": \"Drama\", \"orientation\": \"h\", \"x\": [0.0484797231575513, 0.0879108694355713, 0.03485041344203677], \"y\": [\"Japan\", \"China\", \"US/Canada\"], \"type\": \"bar\", \"uid\": \"6fe15a1c-adb4-11e8-805e-60030899ee42\"}, {\"name\": \"Family\", \"orientation\": \"h\", \"x\": [0.115315102795703, 0.019894386307763353, 0.05056004418898859], \"y\": [\"Japan\", \"China\", \"US/Canada\"], \"type\": \"bar\", \"uid\": \"6fe15c2e-adb4-11e8-8a1b-60030899ee42\"}, {\"name\": \"Fantasy\", \"orientation\": \"h\", \"x\": [0.12147850476749736, 0.1018899302895377, 0.13220229527295774], \"y\": [\"Japan\", \"China\", \"US/Canada\"], \"type\": \"bar\", \"uid\": \"6fe15e36-adb4-11e8-b8b1-60030899ee42\"}, {\"name\": \"Horror\", \"orientation\": \"h\", \"x\": [0.0052626435405760605, 0.009136852990131627, 0.019154143894148587], \"y\": [\"Japan\", \"China\", \"US/Canada\"], \"type\": \"bar\", \"uid\": \"6fe16034-adb4-11e8-9b30-60030899ee42\"}, {\"name\": \"Musical\", \"orientation\": \"h\", \"x\": [0.06504079774012794, 0.010836396662139433, 0.03378284352574076], \"y\": [\"Japan\", \"China\", \"US/Canada\"], \"type\": \"bar\", \"uid\": \"6fe16234-adb4-11e8-9034-60030899ee42\"}, {\"name\": \"Mystery\", \"orientation\": \"h\", \"x\": [0.02190419512259718, 0.025412623036443278, 0.014674680426366585], \"y\": [\"Japan\", \"China\", \"US/Canada\"], \"type\": \"bar\", \"uid\": \"6fe16426-adb4-11e8-a3a7-60030899ee42\"}, {\"name\": \"Romance\", \"orientation\": \"h\", \"x\": [0.04711944650756811, 0.030409160518888416, 0.01917285028799532], \"y\": [\"Japan\", \"China\", \"US/Canada\"], \"type\": \"bar\", \"uid\": \"6fe1662e-adb4-11e8-a5ec-60030899ee42\"}, {\"name\": \"Sci-Fi\", \"orientation\": \"h\", \"x\": [0.06272299536834933, 0.06043991305021, 0.1125915214318889], \"y\": [\"Japan\", \"China\", \"US/Canada\"], \"type\": \"bar\", \"uid\": \"6fe1682c-adb4-11e8-9606-60030899ee42\"}, {\"name\": \"Sport\", \"orientation\": \"h\", \"x\": [0, 0.030178975784165098, 0], \"y\": [\"Japan\", \"China\", \"US/Canada\"], \"type\": \"bar\", \"uid\": \"6fe16a28-adb4-11e8-a33e-60030899ee42\"}, {\"name\": \"Thriller\", \"orientation\": \"h\", \"x\": [0.036877904532898145, 0.0963699083808892, 0.043512527509397735], \"y\": [\"Japan\", \"China\", \"US/Canada\"], \"type\": \"bar\", \"uid\": \"6fe16c28-adb4-11e8-a035-60030899ee42\"}, {\"name\": \"War\", \"orientation\": \"h\", \"x\": [0.005277926202882728, 0.048920154272152454, 0.02284734508735775], \"y\": [\"Japan\", \"China\", \"US/Canada\"], \"type\": \"bar\", \"uid\": \"6fe16e1c-adb4-11e8-ad21-60030899ee42\"}, {\"name\": \"History\", \"orientation\": \"h\", \"x\": [0.005277926202882728, 0, 0.007153309075712857], \"y\": [\"Japan\", \"China\", \"US/Canada\"], \"type\": \"bar\", \"uid\": \"6fe17010-adb4-11e8-817d-60030899ee42\"}],\n",
       "            {\"annotations\": [{\"font\": {\"color\": \"rgba(245, 246, 249, 1)\", \"family\": \"Calibri\", \"size\": 17}, \"showarrow\": false, \"text\": \"Action\", \"x\": 0.052819479246200896, \"y\": \"Japan\"}, {\"font\": {\"color\": \"rgba(245, 246, 249, 1)\", \"family\": \"Calibri\", \"size\": 17}, \"showarrow\": false, \"text\": \"Adventure\", \"x\": 0.16740469155744236, \"y\": \"Japan\"}, {\"font\": {\"color\": \"rgba(245, 246, 249, 1)\", \"family\": \"Calibri\", \"size\": 17}, \"showarrow\": false, \"text\": \"Animation\", \"x\": 0.28271979435314537, \"y\": \"Japan\"}, {\"font\": {\"color\": \"rgba(245, 246, 249, 1)\", \"family\": \"Calibri\", \"size\": 17}, \"showarrow\": false, \"text\": \"Comedy\", \"x\": 0.3715660379902968, \"y\": \"Japan\"}, {\"font\": {\"color\": \"rgba(245, 246, 249, 1)\", \"family\": \"Calibri\", \"size\": 17}, \"showarrow\": false, \"text\": \"Family\", \"x\": 0.5790376600146204, \"y\": \"Japan\"}, {\"font\": {\"color\": \"rgba(245, 246, 249, 1)\", \"family\": \"Calibri\", \"size\": 17}, \"showarrow\": false, \"text\": \"Fantasy\", \"x\": 0.7005161647821178, \"y\": \"Japan\"}, {\"font\": {\"color\": \"rgba(245, 246, 249, 1)\", \"family\": \"Calibri\", \"size\": 17}, \"showarrow\": false, \"text\": \"Action\", \"x\": 0.13303781432273898, \"y\": \"China\"}, {\"font\": {\"color\": \"rgba(245, 246, 249, 1)\", \"family\": \"Calibri\", \"size\": 17}, \"showarrow\": false, \"text\": \"Adventure\", \"x\": 0.24273335649251532, \"y\": \"China\"}, {\"font\": {\"color\": \"rgba(245, 246, 249, 1)\", \"family\": \"Calibri\", \"size\": 17}, \"showarrow\": false, \"text\": \"Comedy\", \"x\": 0.3799150282470164, \"y\": \"China\"}, {\"font\": {\"color\": \"rgba(245, 246, 249, 1)\", \"family\": \"Calibri\", \"size\": 17}, \"showarrow\": false, \"text\": \"Drama\", \"x\": 0.5165116987076794, \"y\": \"China\"}, {\"font\": {\"color\": \"rgba(245, 246, 249, 1)\", \"family\": \"Calibri\", \"size\": 17}, \"showarrow\": false, \"text\": \"Fantasy\", \"x\": 0.6382960153049805, \"y\": \"China\"}, {\"font\": {\"color\": \"rgba(245, 246, 249, 1)\", \"family\": \"Calibri\", \"size\": 17}, \"showarrow\": false, \"text\": \"Thriller\", \"x\": 0.9010798457278476, \"y\": \"China\"}, {\"font\": {\"color\": \"rgba(245, 246, 249, 1)\", \"family\": \"Calibri\", \"size\": 17}, \"showarrow\": false, \"text\": \"Action\", \"x\": 0.10697993671251489, \"y\": \"US/Canada\"}, {\"font\": {\"color\": \"rgba(245, 246, 249, 1)\", \"family\": \"Calibri\", \"size\": 17}, \"showarrow\": false, \"text\": \"Adventure\", \"x\": 0.24089393302237005, \"y\": \"US/Canada\"}, {\"font\": {\"color\": \"rgba(245, 246, 249, 1)\", \"family\": \"Calibri\", \"size\": 17}, \"showarrow\": false, \"text\": \"Comedy\", \"x\": 0.37167453361370695, \"y\": \"US/Canada\"}, {\"font\": {\"color\": \"rgba(245, 246, 249, 1)\", \"family\": \"Calibri\", \"size\": 17}, \"showarrow\": false, \"text\": \"Comic\", \"x\": 0.4509005989786686, \"y\": \"US/Canada\"}, {\"font\": {\"color\": \"rgba(245, 246, 249, 1)\", \"family\": \"Calibri\", \"size\": 17}, \"showarrow\": false, \"text\": \"Fantasy\", \"x\": 0.6771107787613915, \"y\": \"US/Canada\"}, {\"font\": {\"color\": \"rgba(245, 246, 249, 1)\", \"family\": \"Calibri\", \"size\": 17}, \"showarrow\": false, \"text\": \"Sci-Fi\", \"x\": 0.8764868183275316, \"y\": \"US/Canada\"}], \"barmode\": \"stack\", \"font\": {\"size\": 17}, \"legend\": {\"font\": {\"size\": 10}}, \"margin\": {\"l\": 120}, \"title\": \"Preference on Movie Genre by Country\", \"xaxis\": {\"showline\": true, \"tickfont\": {\"size\": 15}, \"tickformat\": \".0%\", \"title\": \"Accumulated Ratio of Total Gross\", \"titlefont\": {\"size\": 16}}, \"yaxis\": {\"showline\": true, \"tickfont\": {\"size\": 15}, \"title\": \"Country\", \"titlefont\": {\"size\": 16}}},\n",
       "            {\"showLink\": true, \"linkText\": \"Export to plot.ly\"}\n",
       "        ).then(function () {return Plotly.addFrames('c974ec9a-ed17-4e65-bfec-0e21e6babac8',{});}).then(function(){Plotly.animate('c974ec9a-ed17-4e65-bfec-0e21e6babac8');})\n",
       "        });</script>"
      ],
      "text/vnd.plotly.v1+html": [
       "<div id=\"c974ec9a-ed17-4e65-bfec-0e21e6babac8\" style=\"height: 525px; width: 100%;\" class=\"plotly-graph-div\"></div><script type=\"text/javascript\">require([\"plotly\"], function(Plotly) { window.PLOTLYENV=window.PLOTLYENV || {};window.PLOTLYENV.BASE_URL=\"https://plot.ly\";\n",
       "        Plotly.plot(\n",
       "            'c974ec9a-ed17-4e65-bfec-0e21e6babac8',\n",
       "            [{\"name\": \"Action\", \"orientation\": \"h\", \"x\": [0.1028194792462009, 0.183037814322739, 0.1569799367125149], \"y\": [\"Japan\", \"China\", \"US/Canada\"], \"type\": \"bar\", \"uid\": \"6fe1423e-adb4-11e8-911f-60030899ee42\"}, {\"name\": \"Adventure\", \"orientation\": \"h\", \"x\": [0.11458521231124146, 0.10969554216977631, 0.13391399630985515], \"y\": [\"Japan\", \"China\", \"US/Canada\"], \"type\": \"bar\", \"uid\": \"6fe1455e-adb4-11e8-86bb-60030899ee42\"}, {\"name\": \"Animation\", \"orientation\": \"h\", \"x\": [0.115315102795703, 0.019894386307763353, 0.05056004418898859], \"y\": [\"Japan\", \"China\", \"US/Canada\"], \"type\": \"bar\", \"uid\": \"6fe1478c-adb4-11e8-ad51-60030899ee42\"}, {\"name\": \"Biography\", \"orientation\": \"h\", \"x\": [0, 0.011055418023355029, 0.00663195260650076], \"y\": [\"Japan\", \"China\", \"US/Canada\"], \"type\": \"bar\", \"uid\": \"6fe14de2-adb4-11e8-b9b5-60030899ee42\"}, {\"name\": \"Comedy\", \"orientation\": \"h\", \"x\": [0.0888462436371514, 0.10623186742338268, 0.07358860379584757], \"y\": [\"Japan\", \"China\", \"US/Canada\"], \"type\": \"bar\", \"uid\": \"6fe152d8-adb4-11e8-9c80-60030899ee42\"}, {\"name\": \"Comic\", \"orientation\": \"h\", \"x\": [0.026486611991212362, 0.026190974788659227, 0.07922606536496163], \"y\": [\"Japan\", \"China\", \"US/Canada\"], \"type\": \"bar\", \"uid\": \"6fe155ba-adb4-11e8-af34-60030899ee42\"}, {\"name\": \"Crime\", \"orientation\": \"h\", \"x\": [0.017190184079856993, 0.022494826236432525, 0.00859742687873982], \"y\": [\"Japan\", \"China\", \"US/Canada\"], \"type\": \"bar\", \"uid\": \"6fe157f6-adb4-11e8-b321-60030899ee42\"}, {\"name\": \"Drama\", \"orientation\": \"h\", \"x\": [0.0484797231575513, 0.0879108694355713, 0.03485041344203677], \"y\": [\"Japan\", \"China\", \"US/Canada\"], \"type\": \"bar\", \"uid\": \"6fe15a1c-adb4-11e8-805e-60030899ee42\"}, {\"name\": \"Family\", \"orientation\": \"h\", \"x\": [0.115315102795703, 0.019894386307763353, 0.05056004418898859], \"y\": [\"Japan\", \"China\", \"US/Canada\"], \"type\": \"bar\", \"uid\": \"6fe15c2e-adb4-11e8-8a1b-60030899ee42\"}, {\"name\": \"Fantasy\", \"orientation\": \"h\", \"x\": [0.12147850476749736, 0.1018899302895377, 0.13220229527295774], \"y\": [\"Japan\", \"China\", \"US/Canada\"], \"type\": \"bar\", \"uid\": \"6fe15e36-adb4-11e8-b8b1-60030899ee42\"}, {\"name\": \"Horror\", \"orientation\": \"h\", \"x\": [0.0052626435405760605, 0.009136852990131627, 0.019154143894148587], \"y\": [\"Japan\", \"China\", \"US/Canada\"], \"type\": \"bar\", \"uid\": \"6fe16034-adb4-11e8-9b30-60030899ee42\"}, {\"name\": \"Musical\", \"orientation\": \"h\", \"x\": [0.06504079774012794, 0.010836396662139433, 0.03378284352574076], \"y\": [\"Japan\", \"China\", \"US/Canada\"], \"type\": \"bar\", \"uid\": \"6fe16234-adb4-11e8-9034-60030899ee42\"}, {\"name\": \"Mystery\", \"orientation\": \"h\", \"x\": [0.02190419512259718, 0.025412623036443278, 0.014674680426366585], \"y\": [\"Japan\", \"China\", \"US/Canada\"], \"type\": \"bar\", \"uid\": \"6fe16426-adb4-11e8-a3a7-60030899ee42\"}, {\"name\": \"Romance\", \"orientation\": \"h\", \"x\": [0.04711944650756811, 0.030409160518888416, 0.01917285028799532], \"y\": [\"Japan\", \"China\", \"US/Canada\"], \"type\": \"bar\", \"uid\": \"6fe1662e-adb4-11e8-a5ec-60030899ee42\"}, {\"name\": \"Sci-Fi\", \"orientation\": \"h\", \"x\": [0.06272299536834933, 0.06043991305021, 0.1125915214318889], \"y\": [\"Japan\", \"China\", \"US/Canada\"], \"type\": \"bar\", \"uid\": \"6fe1682c-adb4-11e8-9606-60030899ee42\"}, {\"name\": \"Sport\", \"orientation\": \"h\", \"x\": [0, 0.030178975784165098, 0], \"y\": [\"Japan\", \"China\", \"US/Canada\"], \"type\": \"bar\", \"uid\": \"6fe16a28-adb4-11e8-a33e-60030899ee42\"}, {\"name\": \"Thriller\", \"orientation\": \"h\", \"x\": [0.036877904532898145, 0.0963699083808892, 0.043512527509397735], \"y\": [\"Japan\", \"China\", \"US/Canada\"], \"type\": \"bar\", \"uid\": \"6fe16c28-adb4-11e8-a035-60030899ee42\"}, {\"name\": \"War\", \"orientation\": \"h\", \"x\": [0.005277926202882728, 0.048920154272152454, 0.02284734508735775], \"y\": [\"Japan\", \"China\", \"US/Canada\"], \"type\": \"bar\", \"uid\": \"6fe16e1c-adb4-11e8-ad21-60030899ee42\"}, {\"name\": \"History\", \"orientation\": \"h\", \"x\": [0.005277926202882728, 0, 0.007153309075712857], \"y\": [\"Japan\", \"China\", \"US/Canada\"], \"type\": \"bar\", \"uid\": \"6fe17010-adb4-11e8-817d-60030899ee42\"}],\n",
       "            {\"annotations\": [{\"font\": {\"color\": \"rgba(245, 246, 249, 1)\", \"family\": \"Calibri\", \"size\": 17}, \"showarrow\": false, \"text\": \"Action\", \"x\": 0.052819479246200896, \"y\": \"Japan\"}, {\"font\": {\"color\": \"rgba(245, 246, 249, 1)\", \"family\": \"Calibri\", \"size\": 17}, \"showarrow\": false, \"text\": \"Adventure\", \"x\": 0.16740469155744236, \"y\": \"Japan\"}, {\"font\": {\"color\": \"rgba(245, 246, 249, 1)\", \"family\": \"Calibri\", \"size\": 17}, \"showarrow\": false, \"text\": \"Animation\", \"x\": 0.28271979435314537, \"y\": \"Japan\"}, {\"font\": {\"color\": \"rgba(245, 246, 249, 1)\", \"family\": \"Calibri\", \"size\": 17}, \"showarrow\": false, \"text\": \"Comedy\", \"x\": 0.3715660379902968, \"y\": \"Japan\"}, {\"font\": {\"color\": \"rgba(245, 246, 249, 1)\", \"family\": \"Calibri\", \"size\": 17}, \"showarrow\": false, \"text\": \"Family\", \"x\": 0.5790376600146204, \"y\": \"Japan\"}, {\"font\": {\"color\": \"rgba(245, 246, 249, 1)\", \"family\": \"Calibri\", \"size\": 17}, \"showarrow\": false, \"text\": \"Fantasy\", \"x\": 0.7005161647821178, \"y\": \"Japan\"}, {\"font\": {\"color\": \"rgba(245, 246, 249, 1)\", \"family\": \"Calibri\", \"size\": 17}, \"showarrow\": false, \"text\": \"Action\", \"x\": 0.13303781432273898, \"y\": \"China\"}, {\"font\": {\"color\": \"rgba(245, 246, 249, 1)\", \"family\": \"Calibri\", \"size\": 17}, \"showarrow\": false, \"text\": \"Adventure\", \"x\": 0.24273335649251532, \"y\": \"China\"}, {\"font\": {\"color\": \"rgba(245, 246, 249, 1)\", \"family\": \"Calibri\", \"size\": 17}, \"showarrow\": false, \"text\": \"Comedy\", \"x\": 0.3799150282470164, \"y\": \"China\"}, {\"font\": {\"color\": \"rgba(245, 246, 249, 1)\", \"family\": \"Calibri\", \"size\": 17}, \"showarrow\": false, \"text\": \"Drama\", \"x\": 0.5165116987076794, \"y\": \"China\"}, {\"font\": {\"color\": \"rgba(245, 246, 249, 1)\", \"family\": \"Calibri\", \"size\": 17}, \"showarrow\": false, \"text\": \"Fantasy\", \"x\": 0.6382960153049805, \"y\": \"China\"}, {\"font\": {\"color\": \"rgba(245, 246, 249, 1)\", \"family\": \"Calibri\", \"size\": 17}, \"showarrow\": false, \"text\": \"Thriller\", \"x\": 0.9010798457278476, \"y\": \"China\"}, {\"font\": {\"color\": \"rgba(245, 246, 249, 1)\", \"family\": \"Calibri\", \"size\": 17}, \"showarrow\": false, \"text\": \"Action\", \"x\": 0.10697993671251489, \"y\": \"US/Canada\"}, {\"font\": {\"color\": \"rgba(245, 246, 249, 1)\", \"family\": \"Calibri\", \"size\": 17}, \"showarrow\": false, \"text\": \"Adventure\", \"x\": 0.24089393302237005, \"y\": \"US/Canada\"}, {\"font\": {\"color\": \"rgba(245, 246, 249, 1)\", \"family\": \"Calibri\", \"size\": 17}, \"showarrow\": false, \"text\": \"Comedy\", \"x\": 0.37167453361370695, \"y\": \"US/Canada\"}, {\"font\": {\"color\": \"rgba(245, 246, 249, 1)\", \"family\": \"Calibri\", \"size\": 17}, \"showarrow\": false, \"text\": \"Comic\", \"x\": 0.4509005989786686, \"y\": \"US/Canada\"}, {\"font\": {\"color\": \"rgba(245, 246, 249, 1)\", \"family\": \"Calibri\", \"size\": 17}, \"showarrow\": false, \"text\": \"Fantasy\", \"x\": 0.6771107787613915, \"y\": \"US/Canada\"}, {\"font\": {\"color\": \"rgba(245, 246, 249, 1)\", \"family\": \"Calibri\", \"size\": 17}, \"showarrow\": false, \"text\": \"Sci-Fi\", \"x\": 0.8764868183275316, \"y\": \"US/Canada\"}], \"barmode\": \"stack\", \"font\": {\"size\": 17}, \"legend\": {\"font\": {\"size\": 10}}, \"margin\": {\"l\": 120}, \"title\": \"Preference on Movie Genre by Country\", \"xaxis\": {\"showline\": true, \"tickfont\": {\"size\": 15}, \"tickformat\": \".0%\", \"title\": \"Accumulated Ratio of Total Gross\", \"titlefont\": {\"size\": 16}}, \"yaxis\": {\"showline\": true, \"tickfont\": {\"size\": 15}, \"title\": \"Country\", \"titlefont\": {\"size\": 16}}},\n",
       "            {\"showLink\": true, \"linkText\": \"Export to plot.ly\"}\n",
       "        ).then(function () {return Plotly.addFrames('c974ec9a-ed17-4e65-bfec-0e21e6babac8',{});}).then(function(){Plotly.animate('c974ec9a-ed17-4e65-bfec-0e21e6babac8');})\n",
       "        });</script>"
      ]
     },
     "metadata": {},
     "output_type": "display_data"
    }
   ],
   "source": [
    "trace = [go.Bar(x=list(df_genre_ratio.loc[df_genre_ratio.genre==genre,country_lis].values.flatten()), \n",
    "                y=country_lis, name=genre, orientation = 'h') for genre in genre_lis]\n",
    "data = trace\n",
    "layout = go.Layout(title='Preference on Movie Genre by Country', font=dict(size=17),\n",
    "                   yaxis=dict(title='Country', showline=True, titlefont=dict(size=16), tickfont=dict(size=15)),\n",
    "                   xaxis=dict(title='Accumulated Ratio of Total Gross', showline=True, \n",
    "                              titlefont=dict(size=16), tickfont=dict(size=15), tickformat=\".0%\"), \n",
    "                   legend=dict(font=dict(size=10)),barmode='stack', margin=dict(l=120))\n",
    "\n",
    "\n",
    "annotations = []\n",
    "\n",
    "for country in country_lis:\n",
    "    for i in range(0, len(df_genre_ratio)):\n",
    "        ratio = df_genre_ratio[country][i]\n",
    "        genre = df_genre_ratio['genre'][i]\n",
    "        if ratio>0.07:\n",
    "            x = df_genre_ratio[country][0:i+1].sum()-0.05\n",
    "            text = df_genre_ratio['genre'][i]\n",
    "            annotations.append(dict(x=x, y=country, text=text,\n",
    "                                  font=dict(family='Calibri', size=17,\n",
    "                                  color='rgba(245, 246, 249, 1)'),\n",
    "                                  showarrow=False))\n",
    "layout['annotations'] = annotations\n",
    "fig = go.Figure(data=data, layout=layout)\n",
    "offline.iplot(fig)"
   ]
  }
 ],
 "metadata": {
  "kernelspec": {
   "display_name": "Python 3",
   "language": "python",
   "name": "python3"
  },
  "language_info": {
   "codemirror_mode": {
    "name": "ipython",
    "version": 3
   },
   "file_extension": ".py",
   "mimetype": "text/x-python",
   "name": "python",
   "nbconvert_exporter": "python",
   "pygments_lexer": "ipython3",
   "version": "3.6.5"
  }
 },
 "nbformat": 4,
 "nbformat_minor": 2
}
